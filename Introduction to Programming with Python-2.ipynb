{
 "cells": [
  {
   "cell_type": "code",
   "execution_count": 2,
   "id": "60415e44",
   "metadata": {},
   "outputs": [
    {
     "name": "stdout",
     "output_type": "stream",
     "text": [
      "Today is  Saturday\n"
     ]
    }
   ],
   "source": [
    "today = 'Saturday'\n",
    "print('Today is ', today)"
   ]
  },
  {
   "cell_type": "code",
   "execution_count": 3,
   "id": "b614264b",
   "metadata": {},
   "outputs": [],
   "source": [
    "def say_Hello():\n",
    "    print('Hello there!')\n",
    "    print('How are you ?')"
   ]
  },
  {
   "cell_type": "code",
   "execution_count": 4,
   "id": "01d33676",
   "metadata": {},
   "outputs": [
    {
     "name": "stdout",
     "output_type": "stream",
     "text": [
      "Hello there!\n",
      "How are you ?\n"
     ]
    }
   ],
   "source": [
    "say_Hello()"
   ]
  },
  {
   "cell_type": "code",
   "execution_count": 11,
   "id": "2794e62e",
   "metadata": {},
   "outputs": [],
   "source": [
    "def Hello():\n",
    "    print('ASAD AYUB')\n",
    "    print(\"It's me\")"
   ]
  },
  {
   "cell_type": "code",
   "execution_count": 12,
   "id": "8730e3de",
   "metadata": {},
   "outputs": [
    {
     "name": "stdout",
     "output_type": "stream",
     "text": [
      "ASAD AYUB\n",
      "It's me\n"
     ]
    }
   ],
   "source": [
    "Hello()"
   ]
  },
  {
   "cell_type": "code",
   "execution_count": 28,
   "id": "114261be",
   "metadata": {},
   "outputs": [
    {
     "name": "stdout",
     "output_type": "stream",
     "text": [
      "[2, 6, 8, 20]\n"
     ]
    }
   ],
   "source": [
    "def even_filter(list_of_Number):\n",
    "    result_list = []\n",
    "    for number in list_of_Number:\n",
    "        if number % 2 == 0:\n",
    "            result_list.append(number)\n",
    "    return result_list\n",
    "list_of_Number = even_filter([ 2, 3, 5 , 6, 7, 8, 20])\n",
    "print(list_of_Number)"
   ]
  },
  {
   "cell_type": "code",
   "execution_count": 33,
   "id": "6048c9bf",
   "metadata": {},
   "outputs": [
    {
     "name": "stdout",
     "output_type": "stream",
     "text": [
      "The EMI is 105000.0\n"
     ]
    }
   ],
   "source": [
    "def loan_emi(amount):\n",
    "    emi = amount/12\n",
    "    print('The EMI is', emi)\n",
    "amount = loan_emi(1260000)"
   ]
  },
  {
   "cell_type": "code",
   "execution_count": 34,
   "id": "e5383410",
   "metadata": {},
   "outputs": [
    {
     "name": "stdout",
     "output_type": "stream",
     "text": [
      "The EmI is 105000.0\n"
     ]
    }
   ],
   "source": [
    "def loan_emi(amount, duration):\n",
    "    emi = amount/duration\n",
    "    print('The EmI is', emi)\n",
    "loan_emi(1260000,12)"
   ]
  },
  {
   "cell_type": "code",
   "execution_count": 39,
   "id": "2432dfe2",
   "metadata": {},
   "outputs": [
    {
     "name": "stdout",
     "output_type": "stream",
     "text": [
      "The Plant 1 have EMI  10500.0\n",
      "The Plant 2 have EMI  13125.0\n"
     ]
    }
   ],
   "source": [
    "def loan_emi(amount,duration,plan):  \n",
    "    emi = (amount/(duration*plan))\n",
    "    return emi\n",
    "Plan_1 = loan_emi(1260000,12,10)\n",
    "Plan_2 = loan_emi(1260000,12,8)\n",
    "print('The Plant 1 have EMI ',Plan_1 )\n",
    "print('The Plant 2 have EMI ',Plan_2 )\n"
   ]
  },
  {
   "cell_type": "code",
   "execution_count": 42,
   "id": "66bd3087",
   "metadata": {},
   "outputs": [
    {
     "name": "stdout",
     "output_type": "stream",
     "text": [
      "14567.19753389219\n",
      "15287.276888775077\n"
     ]
    }
   ],
   "source": [
    "def loan_emi(amount,duration,rate,down_payment=0):\n",
    "    loan_amount = amount-down_payment\n",
    "    emi = loan_amount * rate * ((1+rate)**duration) / (((1+rate)**duration)-1)\n",
    "    return emi \n",
    "Plant_1 = loan_emi(amount = 1260000, duration = 8*12, rate = 0.1/12, down_payment = 3e5)\n",
    "Plant_2 = loan_emi(amount = 1260000, duration = 10*12, rate = 0.08/12)\n",
    "\n",
    "print(Plant_1)\n",
    "print(Plant_2)"
   ]
  },
  {
   "cell_type": "code",
   "execution_count": 15,
   "id": "85a5501e",
   "metadata": {},
   "outputs": [],
   "source": [
    "import math"
   ]
  },
  {
   "cell_type": "code",
   "execution_count": 1,
   "id": "fe371acf",
   "metadata": {},
   "outputs": [],
   "source": [
    "def say_Hello():\n",
    "    print('Hello!')\n",
    "    print('How are you?')"
   ]
  },
  {
   "cell_type": "code",
   "execution_count": 2,
   "id": "0c500c6c",
   "metadata": {},
   "outputs": [
    {
     "name": "stdout",
     "output_type": "stream",
     "text": [
      "Hello!\n",
      "How are you?\n"
     ]
    }
   ],
   "source": [
    "say_Hello()"
   ]
  },
  {
   "cell_type": "code",
   "execution_count": 4,
   "id": "4dbbff21",
   "metadata": {},
   "outputs": [],
   "source": [
    "def filter_function(number_list):\n",
    "    result_list = []\n",
    "    for number in number_list:\n",
    "        if number % 2 == 0:\n",
    "            result_list.append(number)\n",
    "    return result_list \n",
    "\n",
    "            "
   ]
  },
  {
   "cell_type": "code",
   "execution_count": 8,
   "id": "3c4057ed",
   "metadata": {},
   "outputs": [
    {
     "name": "stdout",
     "output_type": "stream",
     "text": [
      "[4, 6, 8, 20]\n"
     ]
    }
   ],
   "source": [
    "number_list = filter_function([1, 3, 4, 5, 6, 7, 8, 20,])\n",
    "print(number_list)"
   ]
  },
  {
   "cell_type": "markdown",
   "id": "c1ff24b4",
   "metadata": {},
   "source": [
    "### House Emi Example"
   ]
  },
  {
   "cell_type": "code",
   "execution_count": 30,
   "id": "d05e99b5",
   "metadata": {},
   "outputs": [],
   "source": [
    "cost_of_House = 1260000\n",
    "down_payment = 300000\n",
    "duration_1 = 8*12 \n",
    "rate_1 = 0.1/12\n",
    "duration_2 = 10*12 \n",
    "rate_2 = 0.08/12\n",
    "def emi(amount,duration,rate, down_payment = 0):\n",
    "    loan_amount = amount - down_payment\n",
    "    emi = loan_amount * rate * ((1+rate)**duration) / (((1+rate)**duration)-1)\n",
    "  \n",
    "    return emi\n",
    "    "
   ]
  },
  {
   "cell_type": "code",
   "execution_count": 31,
   "id": "034424e6",
   "metadata": {},
   "outputs": [
    {
     "name": "stdout",
     "output_type": "stream",
     "text": [
      "14567.19753389219\n",
      "15287.276888775077\n",
      "Option 1 has the Lower EMI:  14567.19753389219\n"
     ]
    }
   ],
   "source": [
    "EMI_1 = emi (amount =cost_of_House, duration = duration_1, rate = rate_1, down_payment = down_payment)\n",
    "EMI_2 = emi (amount =cost_of_House, duration = duration_2, rate = rate_2)\n",
    "\n",
    "\n",
    "print(EMI_1)\n",
    "print(EMI_2)\n",
    "if EMI_1 < EMI_2:\n",
    "    print('Option 1 has the Lower EMI: ', EMI_1)\n",
    "else:\n",
    "    print('Option 2 has the Lower EMI: ', EMI_2)\n"
   ]
  },
  {
   "cell_type": "code",
   "execution_count": 35,
   "id": "cf463d33",
   "metadata": {},
   "outputs": [
    {
     "name": "stdout",
     "output_type": "stream",
     "text": [
      "House emi  10229.403883181738\n",
      "Car emi  5330.9273207005\n",
      "Total Amount have to pay is  15560.331203882237\n"
     ]
    }
   ],
   "source": [
    "house_cost = 800000\n",
    "down_payment = 200000\n",
    "duration_1 = 72\n",
    "rate_house = 0.07/12\n",
    "car_cost = 60000\n",
    "duration = 12\n",
    "rate = 0.12/12\n",
    "house_emi = emi(amount= house_cost, duration = duration_1, rate = rate_house, down_payment = down_payment  )\n",
    "print('House emi ', house_emi)\n",
    "car_emi = emi(amount= car_cost, duration = duration, rate = rate )\n",
    "print('Car emi ' , car_emi)\n",
    "Total_amount= house_emi + car_emi\n",
    "print('Total Amount have to pay is ', Total_amount)"
   ]
  },
  {
   "cell_type": "markdown",
   "id": "8504ca79",
   "metadata": {},
   "source": [
    "### Data Analysis for Vacation Planing "
   ]
  },
  {
   "cell_type": "code",
   "execution_count": 38,
   "id": "98b28051",
   "metadata": {},
   "outputs": [],
   "source": [
    "City_1 = 'Paris'\n",
    "Return_Flight_City_1 = 200\n",
    "Hotel_per_day_City_1 = 20\n",
    "Weekely_car_rental_City_1 = 200\n",
    "City_2 = 'London'\n",
    "Return_Flight_City_2 = 250\n",
    "Hotel_per_day_City_2 = 30\n",
    "Weekely_car_rental_City_2 = 120\n",
    "City_3 = 'Dubai'\n",
    "Return_Flight_City_3 = 370\n",
    "Hotel_per_day_City_3 = 15\n",
    "Weekely_car_rental_City_3 = 80\n",
    "City_4 = 'Lahore'\n",
    "Return_Flight_City_4 = 450\n",
    "Hotel_per_day_City_4 = 10\n",
    "Weekely_car_rental_City_4 = 70"
   ]
  },
  {
   "cell_type": "code",
   "execution_count": 40,
   "id": "58a99f49",
   "metadata": {},
   "outputs": [
    {
     "name": "stdout",
     "output_type": "stream",
     "text": [
      "One Week Trip to Paris Cost is  540\n"
     ]
    }
   ],
   "source": [
    "def total_expenses(Return_Flight, Hotel_per_day, Weekely_car_rental_City, duration):\n",
    "    total_expenses = Return_Flight + Weekely_car_rental_City + ((Hotel_per_day)*(duration))\n",
    "    return total_expenses\n"
   ]
  },
  {
   "cell_type": "code",
   "execution_count": 41,
   "id": "d9cde90f",
   "metadata": {},
   "outputs": [
    {
     "name": "stdout",
     "output_type": "stream",
     "text": [
      "One Week Trip to Paris Cost is  540\n",
      "One Week Trip to London Cost is  580\n",
      "One Week Trip to Dubai Cost is  555\n",
      "One Week Trip to Lahore Cost is  590\n"
     ]
    }
   ],
   "source": [
    "\n",
    "One_week_trip_to_Paris = total_expenses(Return_Flight = Return_Flight_City_1 , Hotel_per_day = Hotel_per_day_City_1 , Weekely_car_rental_City = Weekely_car_rental_City_1, duration = 7 )\n",
    "print('One Week Trip to Paris Cost is ', One_week_trip_to_Paris)\n",
    "\n",
    "One_week_trip_to_London = total_expenses(Return_Flight = Return_Flight_City_2 , Hotel_per_day = Hotel_per_day_City_2 , Weekely_car_rental_City = Weekely_car_rental_City_2, duration = 7 )\n",
    "print('One Week Trip to London Cost is ', One_week_trip_to_London)\n",
    "\n",
    "\n",
    "One_week_trip_to_Dubai = total_expenses(Return_Flight = Return_Flight_City_3 , Hotel_per_day = Hotel_per_day_City_3 , Weekely_car_rental_City = Weekely_car_rental_City_3, duration = 7 )\n",
    "print('One Week Trip to Dubai Cost is ', One_week_trip_to_Dubai)\n",
    "\n",
    "One_week_trip_to_Lahore = total_expenses(Return_Flight = Return_Flight_City_4 , Hotel_per_day = Hotel_per_day_City_4 , Weekely_car_rental_City = Weekely_car_rental_City_4, duration = 7 )\n",
    "print('One Week Trip to Lahore Cost is ', One_week_trip_to_Lahore)\n"
   ]
  }
 ],
 "metadata": {
  "kernelspec": {
   "display_name": "Python 3 (ipykernel)",
   "language": "python",
   "name": "python3"
  },
  "language_info": {
   "codemirror_mode": {
    "name": "ipython",
    "version": 3
   },
   "file_extension": ".py",
   "mimetype": "text/x-python",
   "name": "python",
   "nbconvert_exporter": "python",
   "pygments_lexer": "ipython3",
   "version": "3.11.5"
  }
 },
 "nbformat": 4,
 "nbformat_minor": 5
}
