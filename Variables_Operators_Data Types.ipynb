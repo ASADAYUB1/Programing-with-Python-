{
 "cells": [
  {
   "cell_type": "markdown",
   "id": "f1cdc7d5",
   "metadata": {},
   "source": [
    "## Sorting information using variables"
   ]
  },
  {
   "cell_type": "code",
   "execution_count": 7,
   "id": "ad591d85",
   "metadata": {},
   "outputs": [],
   "source": [
    "my_favorite_color = 'Red'"
   ]
  },
  {
   "cell_type": "code",
   "execution_count": 8,
   "id": "55487d16",
   "metadata": {},
   "outputs": [
    {
     "data": {
      "text/plain": [
       "'Red'"
      ]
     },
     "execution_count": 8,
     "metadata": {},
     "output_type": "execute_result"
    }
   ],
   "source": [
    "my_favorite_color"
   ]
  },
  {
   "cell_type": "code",
   "execution_count": 9,
   "id": "ba9d35ef",
   "metadata": {},
   "outputs": [],
   "source": [
    "color1, color2, color3 = 'red', 'blue', 'yellow'"
   ]
  },
  {
   "cell_type": "code",
   "execution_count": 10,
   "id": "cc43f49e",
   "metadata": {},
   "outputs": [
    {
     "data": {
      "text/plain": [
       "'yellow'"
      ]
     },
     "execution_count": 10,
     "metadata": {},
     "output_type": "execute_result"
    }
   ],
   "source": [
    "color3"
   ]
  },
  {
   "cell_type": "code",
   "execution_count": 12,
   "id": "01b777bc",
   "metadata": {},
   "outputs": [],
   "source": [
    "color4 = color5= color6 = 'green'"
   ]
  },
  {
   "cell_type": "code",
   "execution_count": 13,
   "id": "bd858603",
   "metadata": {},
   "outputs": [
    {
     "data": {
      "text/plain": [
       "'green'"
      ]
     },
     "execution_count": 13,
     "metadata": {},
     "output_type": "execute_result"
    }
   ],
   "source": [
    "color4"
   ]
  },
  {
   "cell_type": "code",
   "execution_count": 14,
   "id": "8cbe53e6",
   "metadata": {},
   "outputs": [
    {
     "data": {
      "text/plain": [
       "'green'"
      ]
     },
     "execution_count": 14,
     "metadata": {},
     "output_type": "execute_result"
    }
   ],
   "source": [
    "color5"
   ]
  },
  {
   "cell_type": "code",
   "execution_count": 15,
   "id": "219ed477",
   "metadata": {},
   "outputs": [
    {
     "data": {
      "text/plain": [
       "'green'"
      ]
     },
     "execution_count": 15,
     "metadata": {},
     "output_type": "execute_result"
    }
   ],
   "source": [
    "color6"
   ]
  },
  {
   "cell_type": "code",
   "execution_count": 19,
   "id": "2442b166",
   "metadata": {},
   "outputs": [],
   "source": [
    "counter = 10 \n"
   ]
  },
  {
   "cell_type": "code",
   "execution_count": 21,
   "id": "5041ca0a",
   "metadata": {},
   "outputs": [],
   "source": [
    "counter=counter+1"
   ]
  },
  {
   "cell_type": "code",
   "execution_count": 22,
   "id": "d23250a9",
   "metadata": {},
   "outputs": [
    {
     "data": {
      "text/plain": [
       "11"
      ]
     },
     "execution_count": 22,
     "metadata": {},
     "output_type": "execute_result"
    }
   ],
   "source": [
    "counter"
   ]
  },
  {
   "cell_type": "code",
   "execution_count": 23,
   "id": "9aa707d6",
   "metadata": {},
   "outputs": [],
   "source": [
    "counter += 3"
   ]
  },
  {
   "cell_type": "code",
   "execution_count": 24,
   "id": "68cb185d",
   "metadata": {},
   "outputs": [
    {
     "data": {
      "text/plain": [
       "14"
      ]
     },
     "execution_count": 24,
     "metadata": {},
     "output_type": "execute_result"
    }
   ],
   "source": [
    "counter"
   ]
  },
  {
   "cell_type": "code",
   "execution_count": null,
   "id": "cb3ac3b5",
   "metadata": {},
   "outputs": [],
   "source": []
  },
  {
   "cell_type": "markdown",
   "id": "38ad9262",
   "metadata": {},
   "source": [
    "## Build-in Data Types in Python "
   ]
  },
  {
   "cell_type": "code",
   "execution_count": 26,
   "id": "5d117d45",
   "metadata": {},
   "outputs": [],
   "source": [
    "a_variable = 6"
   ]
  },
  {
   "cell_type": "code",
   "execution_count": 27,
   "id": "a183544a",
   "metadata": {},
   "outputs": [
    {
     "data": {
      "text/plain": [
       "int"
      ]
     },
     "execution_count": 27,
     "metadata": {},
     "output_type": "execute_result"
    }
   ],
   "source": [
    "type(a_variable)"
   ]
  },
  {
   "cell_type": "code",
   "execution_count": 29,
   "id": "7e25942c",
   "metadata": {},
   "outputs": [
    {
     "data": {
      "text/plain": [
       "'6'"
      ]
     },
     "execution_count": 29,
     "metadata": {},
     "output_type": "execute_result"
    }
   ],
   "source": [
    "str(a_variable)"
   ]
  },
  {
   "cell_type": "code",
   "execution_count": 30,
   "id": "032477dc",
   "metadata": {},
   "outputs": [
    {
     "data": {
      "text/plain": [
       "int"
      ]
     },
     "execution_count": 30,
     "metadata": {},
     "output_type": "execute_result"
    }
   ],
   "source": [
    "type(a_variable)"
   ]
  },
  {
   "cell_type": "code",
   "execution_count": 32,
   "id": "2e976997",
   "metadata": {},
   "outputs": [],
   "source": [
    "is_today_saturday = True"
   ]
  },
  {
   "cell_type": "code",
   "execution_count": 33,
   "id": "b6548d78",
   "metadata": {},
   "outputs": [
    {
     "data": {
      "text/plain": [
       "bool"
      ]
     },
     "execution_count": 33,
     "metadata": {},
     "output_type": "execute_result"
    }
   ],
   "source": [
    "type(is_today_saturday)"
   ]
  },
  {
   "cell_type": "code",
   "execution_count": 34,
   "id": "533986d0",
   "metadata": {},
   "outputs": [
    {
     "data": {
      "text/plain": [
       "str"
      ]
     },
     "execution_count": 34,
     "metadata": {},
     "output_type": "execute_result"
    }
   ],
   "source": [
    "type(my_favorite_color)"
   ]
  },
  {
   "cell_type": "code",
   "execution_count": 35,
   "id": "8cb741c8",
   "metadata": {},
   "outputs": [
    {
     "data": {
      "text/plain": [
       "False"
      ]
     },
     "execution_count": 35,
     "metadata": {},
     "output_type": "execute_result"
    }
   ],
   "source": [
    "bool(False)"
   ]
  },
  {
   "cell_type": "code",
   "execution_count": 36,
   "id": "ad86b0a3",
   "metadata": {},
   "outputs": [
    {
     "data": {
      "text/plain": [
       "False"
      ]
     },
     "execution_count": 36,
     "metadata": {},
     "output_type": "execute_result"
    }
   ],
   "source": [
    "bool(0)"
   ]
  },
  {
   "cell_type": "code",
   "execution_count": 37,
   "id": "21b1bcd4",
   "metadata": {},
   "outputs": [
    {
     "data": {
      "text/plain": [
       "False"
      ]
     },
     "execution_count": 37,
     "metadata": {},
     "output_type": "execute_result"
    }
   ],
   "source": [
    "bool(0.0)"
   ]
  },
  {
   "cell_type": "code",
   "execution_count": 38,
   "id": "92d3c885",
   "metadata": {},
   "outputs": [
    {
     "data": {
      "text/plain": [
       "False"
      ]
     },
     "execution_count": 38,
     "metadata": {},
     "output_type": "execute_result"
    }
   ],
   "source": [
    "bool([])"
   ]
  },
  {
   "cell_type": "code",
   "execution_count": 39,
   "id": "0156acdd",
   "metadata": {},
   "outputs": [
    {
     "data": {
      "text/plain": [
       "False"
      ]
     },
     "execution_count": 39,
     "metadata": {},
     "output_type": "execute_result"
    }
   ],
   "source": [
    "bool(())"
   ]
  },
  {
   "cell_type": "code",
   "execution_count": 40,
   "id": "f1fb0e01",
   "metadata": {},
   "outputs": [
    {
     "data": {
      "text/plain": [
       "False"
      ]
     },
     "execution_count": 40,
     "metadata": {},
     "output_type": "execute_result"
    }
   ],
   "source": [
    "bool(None)"
   ]
  },
  {
   "cell_type": "code",
   "execution_count": 41,
   "id": "dc84776b",
   "metadata": {},
   "outputs": [
    {
     "data": {
      "text/plain": [
       "True"
      ]
     },
     "execution_count": 41,
     "metadata": {},
     "output_type": "execute_result"
    }
   ],
   "source": [
    "bool(True)"
   ]
  },
  {
   "cell_type": "code",
   "execution_count": 42,
   "id": "333fbabf",
   "metadata": {},
   "outputs": [
    {
     "data": {
      "text/plain": [
       "True"
      ]
     },
     "execution_count": 42,
     "metadata": {},
     "output_type": "execute_result"
    }
   ],
   "source": [
    "bool([1,2])"
   ]
  },
  {
   "cell_type": "code",
   "execution_count": 43,
   "id": "39c9843f",
   "metadata": {},
   "outputs": [
    {
     "data": {
      "text/plain": [
       "True"
      ]
     },
     "execution_count": 43,
     "metadata": {},
     "output_type": "execute_result"
    }
   ],
   "source": [
    "bool((3,4))"
   ]
  },
  {
   "cell_type": "code",
   "execution_count": 46,
   "id": "939300fc",
   "metadata": {},
   "outputs": [
    {
     "data": {
      "text/plain": [
       "True"
      ]
     },
     "execution_count": 46,
     "metadata": {},
     "output_type": "execute_result"
    }
   ],
   "source": [
    "bool(range(10))"
   ]
  },
  {
   "cell_type": "code",
   "execution_count": 47,
   "id": "740c17ae",
   "metadata": {},
   "outputs": [
    {
     "data": {
      "text/plain": [
       "range(0, 10)"
      ]
     },
     "execution_count": 47,
     "metadata": {},
     "output_type": "execute_result"
    }
   ],
   "source": [
    "range(10)"
   ]
  },
  {
   "cell_type": "code",
   "execution_count": 48,
   "id": "e72aac18",
   "metadata": {},
   "outputs": [
    {
     "data": {
      "text/plain": [
       "range(10, 3)"
      ]
     },
     "execution_count": 48,
     "metadata": {},
     "output_type": "execute_result"
    }
   ],
   "source": [
    "range(10,3)"
   ]
  },
  {
   "cell_type": "code",
   "execution_count": 50,
   "id": "7823d692",
   "metadata": {},
   "outputs": [],
   "source": [
    "a = 'ASAD'"
   ]
  },
  {
   "cell_type": "code",
   "execution_count": 51,
   "id": "e61b5efc",
   "metadata": {},
   "outputs": [
    {
     "data": {
      "text/plain": [
       "4"
      ]
     },
     "execution_count": 51,
     "metadata": {},
     "output_type": "execute_result"
    }
   ],
   "source": [
    "len(a)"
   ]
  },
  {
   "cell_type": "code",
   "execution_count": 53,
   "id": "207ff842",
   "metadata": {},
   "outputs": [],
   "source": [
    "b = 'AYUB'"
   ]
  },
  {
   "cell_type": "code",
   "execution_count": 54,
   "id": "39ac2c5a",
   "metadata": {},
   "outputs": [
    {
     "data": {
      "text/plain": [
       "'ASADAYUB'"
      ]
     },
     "execution_count": 54,
     "metadata": {},
     "output_type": "execute_result"
    }
   ],
   "source": [
    "a+b"
   ]
  },
  {
   "cell_type": "code",
   "execution_count": 59,
   "id": "d3b58128",
   "metadata": {},
   "outputs": [
    {
     "data": {
      "text/plain": [
       "'ASAD AYUB!'"
      ]
     },
     "execution_count": 59,
     "metadata": {},
     "output_type": "execute_result"
    }
   ],
   "source": [
    "a+' '+b+'!'"
   ]
  },
  {
   "cell_type": "markdown",
   "id": "cb415295",
   "metadata": {},
   "source": [
    "#### List"
   ]
  },
  {
   "cell_type": "code",
   "execution_count": 75,
   "id": "bbf15240",
   "metadata": {},
   "outputs": [],
   "source": [
    "a_list = ['Apple','Banana','Cherry','Bluebarry']"
   ]
  },
  {
   "cell_type": "code",
   "execution_count": 61,
   "id": "802fcb31",
   "metadata": {},
   "outputs": [
    {
     "data": {
      "text/plain": [
       "'Cherry'"
      ]
     },
     "execution_count": 61,
     "metadata": {},
     "output_type": "execute_result"
    }
   ],
   "source": [
    "a_list[2]"
   ]
  },
  {
   "cell_type": "code",
   "execution_count": 62,
   "id": "75f0cab6",
   "metadata": {},
   "outputs": [
    {
     "data": {
      "text/plain": [
       "['Apple', 'Banana', 'Cherry']"
      ]
     },
     "execution_count": 62,
     "metadata": {},
     "output_type": "execute_result"
    }
   ],
   "source": [
    "a_list[0:3]"
   ]
  },
  {
   "cell_type": "code",
   "execution_count": 67,
   "id": "2e54846c",
   "metadata": {},
   "outputs": [
    {
     "ename": "IndexError",
     "evalue": "list index out of range",
     "output_type": "error",
     "traceback": [
      "\u001b[1;31m---------------------------------------------------------------------------\u001b[0m",
      "\u001b[1;31mIndexError\u001b[0m                                Traceback (most recent call last)",
      "Cell \u001b[1;32mIn[67], line 1\u001b[0m\n\u001b[1;32m----> 1\u001b[0m \u001b[43ma_list\u001b[49m\u001b[43m[\u001b[49m\u001b[38;5;241;43m7\u001b[39;49m\u001b[43m]\u001b[49m\n",
      "\u001b[1;31mIndexError\u001b[0m: list index out of range"
     ]
    }
   ],
   "source": [
    "a_list[7]"
   ]
  },
  {
   "cell_type": "code",
   "execution_count": 68,
   "id": "9bcd2405",
   "metadata": {},
   "outputs": [
    {
     "data": {
      "text/plain": [
       "True"
      ]
     },
     "execution_count": 68,
     "metadata": {},
     "output_type": "execute_result"
    }
   ],
   "source": [
    "'Apple' in a_list"
   ]
  },
  {
   "cell_type": "code",
   "execution_count": 69,
   "id": "7a795a0f",
   "metadata": {},
   "outputs": [
    {
     "data": {
      "text/plain": [
       "4"
      ]
     },
     "execution_count": 69,
     "metadata": {},
     "output_type": "execute_result"
    }
   ],
   "source": [
    "len(a_list)"
   ]
  },
  {
   "cell_type": "code",
   "execution_count": 81,
   "id": "0ca638be",
   "metadata": {},
   "outputs": [
    {
     "data": {
      "text/plain": [
       "['Apple', 'Banana', 'Cherry']"
      ]
     },
     "execution_count": 81,
     "metadata": {},
     "output_type": "execute_result"
    }
   ],
   "source": [
    "a_list[-4:-1]"
   ]
  },
  {
   "cell_type": "code",
   "execution_count": 87,
   "id": "46a5ee0e",
   "metadata": {},
   "outputs": [],
   "source": [
    "a_list.append('New')"
   ]
  },
  {
   "cell_type": "code",
   "execution_count": 83,
   "id": "eee8d36c",
   "metadata": {},
   "outputs": [
    {
     "data": {
      "text/plain": [
       "['Apple', 'Banana', 'Cherry', 'Bluebarry', 'New']"
      ]
     },
     "execution_count": 83,
     "metadata": {},
     "output_type": "execute_result"
    }
   ],
   "source": [
    "a_list"
   ]
  },
  {
   "cell_type": "code",
   "execution_count": 88,
   "id": "4dfd5af8",
   "metadata": {},
   "outputs": [],
   "source": [
    "a_list.remove('New')"
   ]
  },
  {
   "cell_type": "code",
   "execution_count": 90,
   "id": "0405f340",
   "metadata": {},
   "outputs": [],
   "source": [
    "a_list.insert(1,'New')"
   ]
  },
  {
   "cell_type": "code",
   "execution_count": 91,
   "id": "9d741231",
   "metadata": {},
   "outputs": [
    {
     "data": {
      "text/plain": [
       "['Apple', 'New', 'Banana', 'Cherry', 'Bluebarry']"
      ]
     },
     "execution_count": 91,
     "metadata": {},
     "output_type": "execute_result"
    }
   ],
   "source": [
    "a_list"
   ]
  },
  {
   "cell_type": "code",
   "execution_count": 92,
   "id": "8883729b",
   "metadata": {},
   "outputs": [
    {
     "ename": "TypeError",
     "evalue": "list.remove() takes exactly one argument (2 given)",
     "output_type": "error",
     "traceback": [
      "\u001b[1;31m---------------------------------------------------------------------------\u001b[0m",
      "\u001b[1;31mTypeError\u001b[0m                                 Traceback (most recent call last)",
      "Cell \u001b[1;32mIn[92], line 1\u001b[0m\n\u001b[1;32m----> 1\u001b[0m \u001b[43ma_list\u001b[49m\u001b[38;5;241;43m.\u001b[39;49m\u001b[43mremove\u001b[49m\u001b[43m(\u001b[49m\u001b[38;5;124;43m'\u001b[39;49m\u001b[38;5;124;43mNew\u001b[39;49m\u001b[38;5;124;43m'\u001b[39;49m\u001b[43m,\u001b[49m\u001b[43m \u001b[49m\u001b[38;5;124;43m'\u001b[39;49m\u001b[38;5;124;43mApple\u001b[39;49m\u001b[38;5;124;43m'\u001b[39;49m\u001b[43m)\u001b[49m\n",
      "\u001b[1;31mTypeError\u001b[0m: list.remove() takes exactly one argument (2 given)"
     ]
    }
   ],
   "source": [
    "a_list.remove('New', 'Apple')"
   ]
  },
  {
   "cell_type": "code",
   "execution_count": 93,
   "id": "28368620",
   "metadata": {},
   "outputs": [
    {
     "data": {
      "text/plain": [
       "'Apple'"
      ]
     },
     "execution_count": 93,
     "metadata": {},
     "output_type": "execute_result"
    }
   ],
   "source": [
    "a_list.pop(0)"
   ]
  },
  {
   "cell_type": "code",
   "execution_count": 95,
   "id": "cba1091a",
   "metadata": {},
   "outputs": [
    {
     "data": {
      "text/plain": [
       "['New', 'Banana', 'Cherry', 'Bluebarry']"
      ]
     },
     "execution_count": 95,
     "metadata": {},
     "output_type": "execute_result"
    }
   ],
   "source": [
    "a_list"
   ]
  },
  {
   "cell_type": "code",
   "execution_count": 96,
   "id": "78ccf723",
   "metadata": {},
   "outputs": [],
   "source": [
    "a_list.insert(0,'Apple')"
   ]
  },
  {
   "cell_type": "code",
   "execution_count": 97,
   "id": "90789949",
   "metadata": {},
   "outputs": [
    {
     "data": {
      "text/plain": [
       "['Apple', 'New', 'Banana', 'Cherry', 'Bluebarry']"
      ]
     },
     "execution_count": 97,
     "metadata": {},
     "output_type": "execute_result"
    }
   ],
   "source": [
    "a_list"
   ]
  },
  {
   "cell_type": "code",
   "execution_count": 99,
   "id": "91bf1a6d",
   "metadata": {},
   "outputs": [],
   "source": [
    "a_list_copy = a_list.copy()"
   ]
  },
  {
   "cell_type": "code",
   "execution_count": 100,
   "id": "6e4bf16b",
   "metadata": {},
   "outputs": [
    {
     "data": {
      "text/plain": [
       "['Apple', 'New', 'Banana', 'Cherry', 'Bluebarry']"
      ]
     },
     "execution_count": 100,
     "metadata": {},
     "output_type": "execute_result"
    }
   ],
   "source": [
    "a_list_copy "
   ]
  },
  {
   "cell_type": "code",
   "execution_count": null,
   "id": "2ab2c923",
   "metadata": {},
   "outputs": [],
   "source": []
  },
  {
   "cell_type": "markdown",
   "id": "6d59c25b",
   "metadata": {},
   "source": [
    "#### Tuple"
   ]
  },
  {
   "cell_type": "markdown",
   "id": "e7d9a49e",
   "metadata": {},
   "source": [
    " A list can be modified but tuple can't"
   ]
  },
  {
   "cell_type": "code",
   "execution_count": 101,
   "id": "f3b17e1a",
   "metadata": {},
   "outputs": [],
   "source": [
    "a_tuple = ('blue', 'Green','33')"
   ]
  },
  {
   "cell_type": "code",
   "execution_count": 102,
   "id": "97bf453a",
   "metadata": {},
   "outputs": [
    {
     "data": {
      "text/plain": [
       "('blue', 'Green', '33')"
      ]
     },
     "execution_count": 102,
     "metadata": {},
     "output_type": "execute_result"
    }
   ],
   "source": [
    "a_tuple"
   ]
  },
  {
   "cell_type": "code",
   "execution_count": 105,
   "id": "abac0a05",
   "metadata": {},
   "outputs": [],
   "source": [
    "b=list(a_tuple)"
   ]
  },
  {
   "cell_type": "code",
   "execution_count": 104,
   "id": "7dec8f8c",
   "metadata": {},
   "outputs": [
    {
     "data": {
      "text/plain": [
       "tuple"
      ]
     },
     "execution_count": 104,
     "metadata": {},
     "output_type": "execute_result"
    }
   ],
   "source": [
    "type(a_tuple)"
   ]
  },
  {
   "cell_type": "code",
   "execution_count": 106,
   "id": "d89673bc",
   "metadata": {},
   "outputs": [
    {
     "data": {
      "text/plain": [
       "['blue', 'Green', '33']"
      ]
     },
     "execution_count": 106,
     "metadata": {},
     "output_type": "execute_result"
    }
   ],
   "source": [
    "b"
   ]
  },
  {
   "cell_type": "code",
   "execution_count": 107,
   "id": "4b911377",
   "metadata": {},
   "outputs": [
    {
     "data": {
      "text/plain": [
       "list"
      ]
     },
     "execution_count": 107,
     "metadata": {},
     "output_type": "execute_result"
    }
   ],
   "source": [
    "type(b)"
   ]
  },
  {
   "cell_type": "code",
   "execution_count": 108,
   "id": "2838b6e2",
   "metadata": {},
   "outputs": [
    {
     "data": {
      "text/plain": [
       "list"
      ]
     },
     "execution_count": 108,
     "metadata": {},
     "output_type": "execute_result"
    }
   ],
   "source": [
    "type(a_list)"
   ]
  },
  {
   "cell_type": "code",
   "execution_count": 109,
   "id": "0b043542",
   "metadata": {},
   "outputs": [
    {
     "data": {
      "text/plain": [
       "('Apple', 'New', 'Banana', 'Cherry', 'Bluebarry')"
      ]
     },
     "execution_count": 109,
     "metadata": {},
     "output_type": "execute_result"
    }
   ],
   "source": [
    "tuple(a_list)"
   ]
  },
  {
   "cell_type": "code",
   "execution_count": 110,
   "id": "38111e4c",
   "metadata": {},
   "outputs": [
    {
     "data": {
      "text/plain": [
       "list"
      ]
     },
     "execution_count": 110,
     "metadata": {},
     "output_type": "execute_result"
    }
   ],
   "source": [
    "type(a_list)"
   ]
  },
  {
   "cell_type": "code",
   "execution_count": null,
   "id": "b59f5c03",
   "metadata": {},
   "outputs": [],
   "source": []
  },
  {
   "cell_type": "markdown",
   "id": "f3b60bc3",
   "metadata": {},
   "source": [
    "#### Dictionary "
   ]
  },
  {
   "cell_type": "markdown",
   "id": "ef97a2a9",
   "metadata": {},
   "source": [
    "A dictionary is an unorder collection of items. Each item stored in a dictionary has a key and value. you can use a key to retrive the corresponding value from the dictionary. Dictionary have the type dict.\n",
    "Dictionaries are often used to store many pieces of information e.g details about a person, in a single variable. Dictionaries are created by enclosing key-value pairs within braces or curly brackets."
   ]
  },
  {
   "cell_type": "code",
   "execution_count": 112,
   "id": "0f3b109a",
   "metadata": {},
   "outputs": [],
   "source": [
    "person_1 = {'Name' : 'ASAD',\n",
    "           'Age': 26,\n",
    "           'Sex': 'Male',\n",
    "           'Married': False}\n"
   ]
  },
  {
   "cell_type": "code",
   "execution_count": 115,
   "id": "ef0cd740",
   "metadata": {},
   "outputs": [
    {
     "data": {
      "text/plain": [
       "{'Name': 'ASAD', 'Age': 26, 'Sex': 'Male', 'Married': False}"
      ]
     },
     "execution_count": 115,
     "metadata": {},
     "output_type": "execute_result"
    }
   ],
   "source": [
    "person_1"
   ]
  },
  {
   "cell_type": "code",
   "execution_count": 116,
   "id": "1fd5e01f",
   "metadata": {},
   "outputs": [
    {
     "data": {
      "text/plain": [
       "dict"
      ]
     },
     "execution_count": 116,
     "metadata": {},
     "output_type": "execute_result"
    }
   ],
   "source": [
    "type(person_1)"
   ]
  },
  {
   "cell_type": "code",
   "execution_count": 119,
   "id": "121c7041",
   "metadata": {},
   "outputs": [
    {
     "data": {
      "text/plain": [
       "'ASAD'"
      ]
     },
     "execution_count": 119,
     "metadata": {},
     "output_type": "execute_result"
    }
   ],
   "source": [
    "person_1['Name']"
   ]
  },
  {
   "cell_type": "code",
   "execution_count": 120,
   "id": "3c5b3a58",
   "metadata": {},
   "outputs": [
    {
     "data": {
      "text/plain": [
       "False"
      ]
     },
     "execution_count": 120,
     "metadata": {},
     "output_type": "execute_result"
    }
   ],
   "source": [
    "person_1['Married']"
   ]
  },
  {
   "cell_type": "code",
   "execution_count": 121,
   "id": "dd6c7ada",
   "metadata": {},
   "outputs": [
    {
     "data": {
      "text/plain": [
       "'ASAD'"
      ]
     },
     "execution_count": 121,
     "metadata": {},
     "output_type": "execute_result"
    }
   ],
   "source": [
    "person_1.get('Name')"
   ]
  },
  {
   "cell_type": "code",
   "execution_count": 122,
   "id": "c9532588",
   "metadata": {},
   "outputs": [],
   "source": [
    "person_1.get('Address')"
   ]
  },
  {
   "cell_type": "code",
   "execution_count": 123,
   "id": "7af747ce",
   "metadata": {},
   "outputs": [
    {
     "name": "stdout",
     "output_type": "stream",
     "text": [
      "None\n"
     ]
    }
   ],
   "source": [
    "print(person_1.get('Address'))"
   ]
  },
  {
   "cell_type": "code",
   "execution_count": 128,
   "id": "7b94f9c4",
   "metadata": {},
   "outputs": [
    {
     "data": {
      "text/plain": [
       "{'Name': 'ASAD',\n",
       " 'Age': 26,\n",
       " 'Sex': 'Male',\n",
       " 'Married': False,\n",
       " 'Adress': '1, penny'}"
      ]
     },
     "execution_count": 128,
     "metadata": {},
     "output_type": "execute_result"
    }
   ],
   "source": [
    "person_1"
   ]
  },
  {
   "cell_type": "code",
   "execution_count": 127,
   "id": "fcda3d02",
   "metadata": {},
   "outputs": [],
   "source": [
    "person_1['Adress']= '1, penny'"
   ]
  },
  {
   "cell_type": "code",
   "execution_count": 130,
   "id": "1d1b6534",
   "metadata": {},
   "outputs": [
    {
     "data": {
      "text/plain": [
       "dict_keys(['Name', 'Age', 'Sex', 'Married', 'Adress'])"
      ]
     },
     "execution_count": 130,
     "metadata": {},
     "output_type": "execute_result"
    }
   ],
   "source": [
    "person_1.keys()"
   ]
  },
  {
   "cell_type": "code",
   "execution_count": 132,
   "id": "ec523602",
   "metadata": {},
   "outputs": [
    {
     "data": {
      "text/plain": [
       "dict_values(['ASAD', 26, 'Male', False, '1, penny'])"
      ]
     },
     "execution_count": 132,
     "metadata": {},
     "output_type": "execute_result"
    }
   ],
   "source": [
    "person_1.values()"
   ]
  },
  {
   "cell_type": "code",
   "execution_count": 134,
   "id": "b515d5d0",
   "metadata": {},
   "outputs": [],
   "source": [
    "person_1['Name'] = 'Ali'"
   ]
  },
  {
   "cell_type": "code",
   "execution_count": 135,
   "id": "a05acbb4",
   "metadata": {},
   "outputs": [
    {
     "data": {
      "text/plain": [
       "{'Name': 'Ali',\n",
       " 'Age': 26,\n",
       " 'Sex': 'Male',\n",
       " 'Married': False,\n",
       " 'Adress': '1, penny'}"
      ]
     },
     "execution_count": 135,
     "metadata": {},
     "output_type": "execute_result"
    }
   ],
   "source": [
    "person_1"
   ]
  },
  {
   "cell_type": "code",
   "execution_count": 136,
   "id": "0d36cbc6",
   "metadata": {},
   "outputs": [],
   "source": [
    "person_1_copy = person_1.copy()"
   ]
  },
  {
   "cell_type": "code",
   "execution_count": 137,
   "id": "8386da39",
   "metadata": {},
   "outputs": [
    {
     "data": {
      "text/plain": [
       "{'Name': 'Ali',\n",
       " 'Age': 26,\n",
       " 'Sex': 'Male',\n",
       " 'Married': False,\n",
       " 'Adress': '1, penny'}"
      ]
     },
     "execution_count": 137,
     "metadata": {},
     "output_type": "execute_result"
    }
   ],
   "source": [
    "person_1_copy"
   ]
  },
  {
   "cell_type": "code",
   "execution_count": 138,
   "id": "e6d68271",
   "metadata": {},
   "outputs": [
    {
     "data": {
      "text/plain": [
       "'1, penny'"
      ]
     },
     "execution_count": 138,
     "metadata": {},
     "output_type": "execute_result"
    }
   ],
   "source": [
    "person_1_copy.pop('Adress')"
   ]
  },
  {
   "cell_type": "code",
   "execution_count": 140,
   "id": "87bd5e3c",
   "metadata": {},
   "outputs": [
    {
     "data": {
      "text/plain": [
       "{'Name': 'Ali', 'Age': 26, 'Sex': 'Male', 'Married': False}"
      ]
     },
     "execution_count": 140,
     "metadata": {},
     "output_type": "execute_result"
    }
   ],
   "source": [
    "person_1_copy"
   ]
  },
  {
   "cell_type": "code",
   "execution_count": 141,
   "id": "a823a6ea",
   "metadata": {},
   "outputs": [
    {
     "data": {
      "text/plain": [
       "{'Name': 'Ali',\n",
       " 'Age': 26,\n",
       " 'Sex': 'Male',\n",
       " 'Married': False,\n",
       " 'Adress': '1, penny'}"
      ]
     },
     "execution_count": 141,
     "metadata": {},
     "output_type": "execute_result"
    }
   ],
   "source": [
    "person_1"
   ]
  },
  {
   "cell_type": "code",
   "execution_count": 142,
   "id": "b9b8469b",
   "metadata": {},
   "outputs": [],
   "source": [
    "person_1_copy['Adress'] = person_1"
   ]
  },
  {
   "cell_type": "code",
   "execution_count": 143,
   "id": "9bcd7f4b",
   "metadata": {},
   "outputs": [
    {
     "data": {
      "text/plain": [
       "{'Name': 'Ali',\n",
       " 'Age': 26,\n",
       " 'Sex': 'Male',\n",
       " 'Married': False,\n",
       " 'Adress': {'Name': 'Ali',\n",
       "  'Age': 26,\n",
       "  'Sex': 'Male',\n",
       "  'Married': False,\n",
       "  'Adress': '1, penny'}}"
      ]
     },
     "execution_count": 143,
     "metadata": {},
     "output_type": "execute_result"
    }
   ],
   "source": [
    "person_1_copy"
   ]
  },
  {
   "cell_type": "code",
   "execution_count": 145,
   "id": "4d003819",
   "metadata": {},
   "outputs": [
    {
     "data": {
      "text/plain": [
       "{'Name': 'Ali',\n",
       " 'Age': 26,\n",
       " 'Sex': 'Male',\n",
       " 'Married': False,\n",
       " 'Adress': '1, penny'}"
      ]
     },
     "execution_count": 145,
     "metadata": {},
     "output_type": "execute_result"
    }
   ],
   "source": [
    "person_1_copy['Adress']"
   ]
  },
  {
   "cell_type": "code",
   "execution_count": 149,
   "id": "f9e2da9b",
   "metadata": {},
   "outputs": [],
   "source": [
    "person_2 = {33 : 'ASAD',\n",
    "           'Age': 26,\n",
    "           True: 'Male',\n",
    "           'Married': False}\n"
   ]
  },
  {
   "cell_type": "code",
   "execution_count": 150,
   "id": "892857a0",
   "metadata": {},
   "outputs": [
    {
     "data": {
      "text/plain": [
       "{33: 'ASAD', 'Age': 26, True: 'Male', 'Married': False}"
      ]
     },
     "execution_count": 150,
     "metadata": {},
     "output_type": "execute_result"
    }
   ],
   "source": [
    "person_2"
   ]
  },
  {
   "cell_type": "code",
   "execution_count": 152,
   "id": "3ced8bfb",
   "metadata": {},
   "outputs": [
    {
     "data": {
      "text/plain": [
       "dict_keys([33, 'Age', True, 'Married'])"
      ]
     },
     "execution_count": 152,
     "metadata": {},
     "output_type": "execute_result"
    }
   ],
   "source": [
    "person_2.keys()"
   ]
  },
  {
   "cell_type": "code",
   "execution_count": 154,
   "id": "376b9a91",
   "metadata": {},
   "outputs": [
    {
     "data": {
      "text/plain": [
       "dict_values(['ASAD', 26, 'Male', False])"
      ]
     },
     "execution_count": 154,
     "metadata": {},
     "output_type": "execute_result"
    }
   ],
   "source": [
    "person_2.values()"
   ]
  },
  {
   "cell_type": "code",
   "execution_count": null,
   "id": "59bb2fa7",
   "metadata": {},
   "outputs": [],
   "source": []
  },
  {
   "cell_type": "code",
   "execution_count": null,
   "id": "dfa7cf3d",
   "metadata": {},
   "outputs": [],
   "source": []
  }
 ],
 "metadata": {
  "kernelspec": {
   "display_name": "Python 3 (ipykernel)",
   "language": "python",
   "name": "python3"
  },
  "language_info": {
   "codemirror_mode": {
    "name": "ipython",
    "version": 3
   },
   "file_extension": ".py",
   "mimetype": "text/x-python",
   "name": "python",
   "nbconvert_exporter": "python",
   "pygments_lexer": "ipython3",
   "version": "3.11.5"
  }
 },
 "nbformat": 4,
 "nbformat_minor": 5
}
