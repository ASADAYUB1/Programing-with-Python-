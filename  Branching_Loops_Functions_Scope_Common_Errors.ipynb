{
 "cells": [
  {
   "cell_type": "markdown",
   "id": "1b27c84c",
   "metadata": {},
   "source": [
    "### Branching using Conditional Statements and Loops in Python "
   ]
  },
  {
   "cell_type": "markdown",
   "id": "7b005d48",
   "metadata": {},
   "source": [
    "* Branching with If, else, elif\n",
    "* Nasted conditions and if expressions\n",
    "* Iteration with While loops\n",
    "* Iterating over conditions with for loops\n",
    "* Nested loops, breake and condinue statement"
   ]
  },
  {
   "cell_type": "code",
   "execution_count": 4,
   "id": "47ce7df6",
   "metadata": {},
   "outputs": [],
   "source": [
    "a_number = 33"
   ]
  },
  {
   "cell_type": "code",
   "execution_count": 5,
   "id": "13cbf9c7",
   "metadata": {},
   "outputs": [],
   "source": [
    "if a_number % 2 == 0:\n",
    "    print('We are in for loop ')\n",
    "    print( 'The given number {} is even.'.format(a_number) )"
   ]
  },
  {
   "cell_type": "code",
   "execution_count": 6,
   "id": "0fbc4c3a",
   "metadata": {},
   "outputs": [],
   "source": [
    "new_number = 343"
   ]
  },
  {
   "cell_type": "code",
   "execution_count": 7,
   "id": "33e266bb",
   "metadata": {},
   "outputs": [
    {
     "name": "stdout",
     "output_type": "stream",
     "text": [
      "The given number 343 is Odd.\n"
     ]
    }
   ],
   "source": [
    "if new_number % 2 == 0:\n",
    "    print('This Number {} is Even. '.format(new_number))\n",
    "else:\n",
    "    print('The given number {} is Odd.'.format(new_number))"
   ]
  },
  {
   "cell_type": "code",
   "execution_count": 16,
   "id": "0697ba24",
   "metadata": {},
   "outputs": [],
   "source": [
    "Today = 'Wednesday' "
   ]
  },
  {
   "cell_type": "code",
   "execution_count": 17,
   "id": "a5606f8d",
   "metadata": {},
   "outputs": [
    {
     "name": "stdout",
     "output_type": "stream",
     "text": [
      "Today is the Third day of the week. \n"
     ]
    }
   ],
   "source": [
    "if Today == 'Monday':\n",
    "    print('Today is first day of week.')\n",
    "elif Today == 'Tuesday':\n",
    "    print('Today is the Second day of the week.')\n",
    "elif Today == 'Wednesday':\n",
    "    print('Today is the Third day of the week. ')\n",
    "elif Today == 'Wednesday':\n",
    "    print('Today is the Third day of the week. ')\n",
    "elif Today == 'Thursday':\n",
    "    print('Today is the Fourth day of the week. ')\n",
    "elif Today == 'Friday':\n",
    "    print('Today is the Last day of the week. ')\n",
    "else:\n",
    "    print('Today is not a day of Work')\n",
    "    "
   ]
  },
  {
   "cell_type": "code",
   "execution_count": 27,
   "id": "2e31a54e",
   "metadata": {},
   "outputs": [],
   "source": [
    "a_number = 53"
   ]
  },
  {
   "cell_type": "code",
   "execution_count": 25,
   "id": "fe6f0a0a",
   "metadata": {},
   "outputs": [
    {
     "name": "stdout",
     "output_type": "stream",
     "text": [
      "50 is divisible by 2 .\n",
      "50 is divisible by 5 .\n"
     ]
    }
   ],
   "source": [
    "if a_number % 2==0:\n",
    "    print('{} is divisible by 2 .'.format(a_number))\n",
    "if a_number % 3==0:\n",
    "    print('{} is divisible by 3 .'.format(a_number))\n",
    "if a_number % 5==0:\n",
    "    print('{} is divisible by 5 .'.format(a_number))\n",
    "   "
   ]
  },
  {
   "cell_type": "code",
   "execution_count": 28,
   "id": "dd883b55",
   "metadata": {},
   "outputs": [
    {
     "name": "stdout",
     "output_type": "stream",
     "text": [
      "All Check Failed!\n"
     ]
    }
   ],
   "source": [
    "if a_number % 2==0:\n",
    "    print('{} is divisible by 2 .'.format(a_number))\n",
    "elif a_number % 3==0:\n",
    "    print('{} is divisible by 3 .'.format(a_number))\n",
    "elif a_number % 5==0:\n",
    "    print('{} is divisible by 5 .'.format(a_number))\n",
    "else:\n",
    "    print('All Check Failed!')"
   ]
  },
  {
   "cell_type": "code",
   "execution_count": 37,
   "id": "2fc6c3dc",
   "metadata": {},
   "outputs": [],
   "source": [
    "a_number = 12"
   ]
  },
  {
   "cell_type": "code",
   "execution_count": 38,
   "id": "4816b673",
   "metadata": {},
   "outputs": [
    {
     "name": "stdout",
     "output_type": "stream",
     "text": [
      "12 is even\n",
      "12 is also divisible by 3.\n"
     ]
    }
   ],
   "source": [
    "if a_number %2 == 0:\n",
    "    print('{} is even'.format(a_number))\n",
    "    if a_number % 3 == 0:\n",
    "        \n",
    "        print('{} is also divisible by 3.'.format(a_number))\n",
    "    else:\n",
    "        print('{} is not divisible by 3.'.format(a_number))\n",
    "else:\n",
    "    print('{} is odd.'.format(a_number))\n",
    "    if a_number % 5 == 0:\n",
    "        print('{} is also divisible by 5.'.format(a_number))\n",
    "    else:\n",
    "        print('{} is not divisible by 5.'.format(a_number))"
   ]
  },
  {
   "cell_type": "code",
   "execution_count": 50,
   "id": "96ca7da1",
   "metadata": {},
   "outputs": [],
   "source": [
    "number = 4"
   ]
  },
  {
   "cell_type": "code",
   "execution_count": 52,
   "id": "2d9616ff",
   "metadata": {},
   "outputs": [
    {
     "name": "stdout",
     "output_type": "stream",
     "text": [
      "4 is out of my scope\n"
     ]
    }
   ],
   "source": [
    "if number % 2 == 0:\n",
    "    pass\n",
    "if number % 3 == 0:\n",
    "    print('{} is Divisible by 3.'.format(number))\n",
    "else:\n",
    "    print ('{} is out of my scope'.format(number))\n"
   ]
  },
  {
   "cell_type": "markdown",
   "id": "df4776b4",
   "metadata": {},
   "source": [
    "Factorial of 100 using the while loop."
   ]
  },
  {
   "cell_type": "markdown",
   "id": "3127825b",
   "metadata": {},
   "source": []
  },
  {
   "cell_type": "markdown",
   "id": "e8c7cd30",
   "metadata": {},
   "source": []
  },
  {
   "cell_type": "code",
   "execution_count": 58,
   "id": "ebc95167",
   "metadata": {},
   "outputs": [
    {
     "name": "stdout",
     "output_type": "stream",
     "text": [
      "The factorial of 100 is 93326215443944152681699238856266700490715968264381621468592963895217599993229915608941463976156518286253697920827223758251185210916864000000000000000000000000.\n"
     ]
    }
   ],
   "source": [
    "result = 1\n",
    "i = 1\n",
    "\n",
    "while i <= 100:\n",
    "    result = result*i\n",
    "    i = i+1\n",
    "\n",
    "print('The factorial of 100 is {}.'.format(result))"
   ]
  },
  {
   "cell_type": "code",
   "execution_count": null,
   "id": "90c09c79",
   "metadata": {},
   "outputs": [],
   "source": [
    "reult = 1\n",
    "i = 1\n",
    "\n",
    "while i <= 100:\n",
    "    reult = reult*i\n",
    "\n",
    "    i = i+1\n",
    "print(reult)"
   ]
  },
  {
   "cell_type": "code",
   "execution_count": 74,
   "id": "f0e99d2d",
   "metadata": {},
   "outputs": [
    {
     "name": "stdout",
     "output_type": "stream",
     "text": [
      "788657867364790503552363213932185062295135977687173263294742533244359449963403342920304284011984623904177212138919638830257642790242637105061926624952829931113462857270763317237396988943922445621451664240254033291864131227428294853277524242407573903240321257405579568660226031904170324062351700858796178922222789623703897374720000000000000000000000000000000000000000000000000\n"
     ]
    }
   ],
   "source": [
    "i = 1\n",
    "reult = 1\n",
    "\n",
    "\n",
    "while i <= 200:\n",
    "    reult = reult*i\n",
    "    i = i+1\n",
    "print(reult)"
   ]
  },
  {
   "cell_type": "markdown",
   "id": "48e3beb6",
   "metadata": {},
   "source": [
    "Breake and Continue "
   ]
  },
  {
   "cell_type": "code",
   "execution_count": 76,
   "id": "f6074e15",
   "metadata": {},
   "outputs": [
    {
     "name": "stdout",
     "output_type": "stream",
     "text": [
      "The number 6 is reached and while loop execution is stopping\n",
      "i :  6\n",
      "Result:  720\n"
     ]
    }
   ],
   "source": [
    "i = 1\n",
    "result = 1\n",
    "\n",
    "while i <= 100:\n",
    "    result= result*i\n",
    "    if i == 6:\n",
    "        print('The number 6 is reached and while loop execution is stopping')\n",
    "        break\n",
    "    i = i +1\n",
    "print('i : ', i)\n",
    "print('Result: ', result)\n",
    "    "
   ]
  },
  {
   "cell_type": "code",
   "execution_count": 84,
   "id": "7c43490e",
   "metadata": {},
   "outputs": [
    {
     "name": "stdout",
     "output_type": "stream",
     "text": [
      "i: 7\n",
      "Result: 5040\n"
     ]
    }
   ],
   "source": [
    "result = 1\n",
    "i = 1\n",
    "\n",
    "while i < 7:\n",
    "    i = i+1\n",
    "    if i % 2 == 0:\n",
    "        print(' Skipping {}.'.format(i))\n",
    "        continue\n",
    "    print('Multiplying with {}.'.format(i))\n",
    "    \n",
    "    result = result* i\n",
    "print('i:', i)\n",
    "print('Result:', result)"
   ]
  },
  {
   "cell_type": "code",
   "execution_count": 83,
   "id": "fad41c8c",
   "metadata": {},
   "outputs": [
    {
     "data": {
      "text/plain": [
       "105"
      ]
     },
     "execution_count": 83,
     "metadata": {},
     "output_type": "execute_result"
    }
   ],
   "source": [
    "1*3*5*7"
   ]
  },
  {
   "cell_type": "code",
   "execution_count": 85,
   "id": "2bbf1d20",
   "metadata": {},
   "outputs": [
    {
     "data": {
      "text/plain": [
       "5040"
      ]
     },
     "execution_count": 85,
     "metadata": {},
     "output_type": "execute_result"
    }
   ],
   "source": [
    "1*2*3*4*5*6*7"
   ]
  },
  {
   "cell_type": "code",
   "execution_count": null,
   "id": "37862e48",
   "metadata": {},
   "outputs": [],
   "source": []
  },
  {
   "cell_type": "code",
   "execution_count": 128,
   "id": "76640087",
   "metadata": {},
   "outputs": [],
   "source": [
    "days = ['Monday', 'Tuesday', 'Wednesday', 'Thursday', 'Friday']"
   ]
  },
  {
   "cell_type": "code",
   "execution_count": 129,
   "id": "8ef211da",
   "metadata": {},
   "outputs": [
    {
     "name": "stdout",
     "output_type": "stream",
     "text": [
      "Monday\n",
      "Tuesday\n",
      "Wednesday\n",
      "Thursday\n",
      "Friday\n"
     ]
    }
   ],
   "source": [
    "for day in days:\n",
    "    print(day)"
   ]
  },
  {
   "cell_type": "code",
   "execution_count": 130,
   "id": "804021cf",
   "metadata": {},
   "outputs": [
    {
     "data": {
      "text/plain": [
       "['Monday', 'Tuesday', 'Wednesday', 'Thursday', 'Friday']"
      ]
     },
     "execution_count": 130,
     "metadata": {},
     "output_type": "execute_result"
    }
   ],
   "source": [
    "days"
   ]
  },
  {
   "cell_type": "code",
   "execution_count": 131,
   "id": "218cbade",
   "metadata": {},
   "outputs": [
    {
     "name": "stdout",
     "output_type": "stream",
     "text": [
      "M\n",
      "o\n",
      "n\n",
      "d\n",
      "a\n",
      "y\n"
     ]
    }
   ],
   "source": [
    "for char in 'Monday':\n",
    "    print(char)"
   ]
  },
  {
   "cell_type": "code",
   "execution_count": 134,
   "id": "dd47b9a1",
   "metadata": {},
   "outputs": [
    {
     "name": "stdout",
     "output_type": "stream",
     "text": [
      "The fruit is : Apple\n",
      "The fruit is : Banana\n",
      "The fruit is : Cherry\n"
     ]
    }
   ],
   "source": [
    "for fruit in ('Apple', 'Banana', 'Cherry'):\n",
    "    print('The fruit is :',fruit)"
   ]
  },
  {
   "cell_type": "code",
   "execution_count": 141,
   "id": "90ae04b5",
   "metadata": {},
   "outputs": [],
   "source": [
    "person = {\n",
    "        'Name': 'Asad',\n",
    "    'Age' : 28,\n",
    "    'Sex' :'Male',\n",
    "    'Work' : 'Res',\n",
    "    'Email': 'Asad@email.com'\n",
    "}"
   ]
  },
  {
   "cell_type": "code",
   "execution_count": 142,
   "id": "8cf0e474",
   "metadata": {},
   "outputs": [
    {
     "data": {
      "text/plain": [
       "{'Name': 'Asad',\n",
       " 'Age': 28,\n",
       " 'Sex': 'Male',\n",
       " 'Work': 'Res',\n",
       " 'Email': 'Asad@email.com'}"
      ]
     },
     "execution_count": 142,
     "metadata": {},
     "output_type": "execute_result"
    }
   ],
   "source": [
    "person"
   ]
  },
  {
   "cell_type": "code",
   "execution_count": 144,
   "id": "0c0bd859",
   "metadata": {},
   "outputs": [
    {
     "name": "stdout",
     "output_type": "stream",
     "text": [
      "Asad\n",
      "28\n",
      "Male\n",
      "Res\n",
      "Asad@email.com\n"
     ]
    }
   ],
   "source": [
    "for value in person.values():\n",
    "    print(value)"
   ]
  },
  {
   "cell_type": "code",
   "execution_count": 146,
   "id": "b2082456",
   "metadata": {},
   "outputs": [
    {
     "name": "stdout",
     "output_type": "stream",
     "text": [
      "('Name', 'Asad')\n",
      "('Age', 28)\n",
      "('Sex', 'Male')\n",
      "('Work', 'Res')\n",
      "('Email', 'Asad@email.com')\n"
     ]
    }
   ],
   "source": [
    "for key_value_pair in person.items():\n",
    "    print(key_value_pair)"
   ]
  },
  {
   "cell_type": "code",
   "execution_count": 150,
   "id": "5cc0e3ff",
   "metadata": {},
   "outputs": [
    {
     "name": "stdout",
     "output_type": "stream",
     "text": [
      "16\n",
      "17\n",
      "18\n",
      "19\n",
      "20\n"
     ]
    }
   ],
   "source": [
    "for i in range(16,21):\n",
    "    print(i)"
   ]
  },
  {
   "cell_type": "code",
   "execution_count": 151,
   "id": "34f41cd0",
   "metadata": {},
   "outputs": [
    {
     "name": "stdout",
     "output_type": "stream",
     "text": [
      "4\n",
      "8\n",
      "12\n",
      "16\n",
      "20\n"
     ]
    }
   ],
   "source": [
    "for i in range(4,21,4):\n",
    "    print(i)"
   ]
  },
  {
   "cell_type": "code",
   "execution_count": 153,
   "id": "80e22c34",
   "metadata": {},
   "outputs": [],
   "source": [
    "weekdays = ['Monday', 'Tuesday', 'Wednesday', 'Thursday', 'Friday']"
   ]
  },
  {
   "cell_type": "code",
   "execution_count": 155,
   "id": "e0fb3bf7",
   "metadata": {},
   "outputs": [
    {
     "data": {
      "text/plain": [
       "['Monday', 'Tuesday', 'Wednesday', 'Thursday', 'Friday']"
      ]
     },
     "execution_count": 155,
     "metadata": {},
     "output_type": "execute_result"
    }
   ],
   "source": [
    "weekdays"
   ]
  },
  {
   "cell_type": "code",
   "execution_count": 160,
   "id": "739d410c",
   "metadata": {},
   "outputs": [
    {
     "name": "stdout",
     "output_type": "stream",
     "text": [
      "Today is Monday.\n",
      "Today is Tuesday.\n",
      "Today is Wednesday.\n",
      "It a Last day for work\n"
     ]
    }
   ],
   "source": [
    "for day in weekdays:\n",
    "    print('Today is {}.'.format(day))\n",
    "    if day== 'Wednesday':\n",
    "        print('It a Last day for work')\n",
    "        break"
   ]
  },
  {
   "cell_type": "code",
   "execution_count": 166,
   "id": "480ce490",
   "metadata": {},
   "outputs": [
    {
     "name": "stdout",
     "output_type": "stream",
     "text": [
      "Today is Monday.\n",
      "Today is Tuesday.\n",
      "It a Last day for work\n",
      "Today is Thursday.\n",
      "Today is Friday.\n"
     ]
    }
   ],
   "source": [
    "for day in weekdays:\n",
    "    if (day== 'Wednesday'):\n",
    "        print('It a Last day for work')\n",
    "        continue\n",
    "    print('Today is {}.'.format(day))\n",
    "    "
   ]
  },
  {
   "cell_type": "code",
   "execution_count": null,
   "id": "56ef1ed9",
   "metadata": {},
   "outputs": [],
   "source": []
  },
  {
   "cell_type": "markdown",
   "id": "68f08ea2",
   "metadata": {},
   "source": [
    "### Creating and Using Functions "
   ]
  },
  {
   "cell_type": "code",
   "execution_count": 167,
   "id": "a66ec83c",
   "metadata": {},
   "outputs": [],
   "source": [
    "def say_Hello():\n",
    "    print('Hello!')\n",
    "    print('How are you')"
   ]
  },
  {
   "cell_type": "code",
   "execution_count": 169,
   "id": "580eb70b",
   "metadata": {},
   "outputs": [
    {
     "name": "stdout",
     "output_type": "stream",
     "text": [
      "Hello!\n",
      "How are you\n"
     ]
    }
   ],
   "source": [
    "say_Hello()"
   ]
  },
  {
   "cell_type": "code",
   "execution_count": 170,
   "id": "1d9bed39",
   "metadata": {},
   "outputs": [],
   "source": [
    "def get_even_numbers(input_numbers):\n",
    "    result_list = []\n",
    "    for number in input_numbers:\n",
    "        if number % 2 ==0:\n",
    "            result_list.append(number)\n",
    "    return result_list"
   ]
  },
  {
   "cell_type": "code",
   "execution_count": 173,
   "id": "4c514eb1",
   "metadata": {},
   "outputs": [
    {
     "data": {
      "text/plain": [
       "[8, 16, 24, 28]"
      ]
     },
     "execution_count": 173,
     "metadata": {},
     "output_type": "execute_result"
    }
   ],
   "source": [
    "Even_list = get_even_numbers([7, 8, 9, 15, 16, 24, 28])\n",
    "Even_list"
   ]
  },
  {
   "cell_type": "code",
   "execution_count": 174,
   "id": "97015098",
   "metadata": {},
   "outputs": [
    {
     "data": {
      "text/plain": [
       "[8, 16, 24, 28]"
      ]
     },
     "execution_count": 174,
     "metadata": {},
     "output_type": "execute_result"
    }
   ],
   "source": [
    "get_even_numbers([7, 8, 9, 15, 16, 24, 28])"
   ]
  },
  {
   "cell_type": "code",
   "execution_count": null,
   "id": "8c89073d",
   "metadata": {},
   "outputs": [],
   "source": []
  },
  {
   "cell_type": "code",
   "execution_count": 175,
   "id": "6dc0a79d",
   "metadata": {},
   "outputs": [],
   "source": [
    "def loan_emi(amount, duration, rate, down_amount= 0):\n",
    "    loan_amount = amount- down_amount\n",
    "    emi = loan_amount* rate * ((1+rate)**duration) / (((1+rate)**duration)-1)\n",
    "    return emi"
   ]
  },
  {
   "cell_type": "code",
   "execution_count": 180,
   "id": "2d96aaf0",
   "metadata": {},
   "outputs": [
    {
     "data": {
      "text/plain": [
       "14111"
      ]
     },
     "execution_count": 180,
     "metadata": {},
     "output_type": "execute_result"
    }
   ],
   "source": [
    "import math\n",
    "\n",
    "math.ceil(loan_emi(amount = 1229888, duration= 8*12, rate = 0.1/12, down_amount=3e5))"
   ]
  },
  {
   "cell_type": "code",
   "execution_count": null,
   "id": "1fb72619",
   "metadata": {},
   "outputs": [],
   "source": []
  }
 ],
 "metadata": {
  "kernelspec": {
   "display_name": "Python 3 (ipykernel)",
   "language": "python",
   "name": "python3"
  },
  "language_info": {
   "codemirror_mode": {
    "name": "ipython",
    "version": 3
   },
   "file_extension": ".py",
   "mimetype": "text/x-python",
   "name": "python",
   "nbconvert_exporter": "python",
   "pygments_lexer": "ipython3",
   "version": "3.11.5"
  }
 },
 "nbformat": 4,
 "nbformat_minor": 5
}
