{
 "cells": [
  {
   "cell_type": "code",
   "execution_count": 1,
   "id": "f53b8c3b",
   "metadata": {},
   "outputs": [
    {
     "data": {
      "text/plain": [
       "70"
      ]
     },
     "execution_count": 1,
     "metadata": {},
     "output_type": "execute_result"
    }
   ],
   "source": [
    "7*10"
   ]
  },
  {
   "cell_type": "code",
   "execution_count": 2,
   "id": "549d9cef",
   "metadata": {
    "scrolled": true
   },
   "outputs": [
    {
     "data": {
      "text/plain": [
       "1.53125"
      ]
     },
     "execution_count": 2,
     "metadata": {},
     "output_type": "execute_result"
    }
   ],
   "source": [
    "((2+5) * (17 - 3)) / (4 ** 3)"
   ]
  },
  {
   "cell_type": "code",
   "execution_count": 3,
   "id": "6b853329",
   "metadata": {},
   "outputs": [
    {
     "name": "stdout",
     "output_type": "stream",
     "text": [
      "117578\n"
     ]
    }
   ],
   "source": [
    "Total_population = 198568\n",
    "Men = 45312\n",
    "Women = 35678\n",
    "Childern = (Total_population - Men) - Women\n",
    "print(Childern)"
   ]
  },
  {
   "cell_type": "code",
   "execution_count": 4,
   "id": "5092f180",
   "metadata": {},
   "outputs": [
    {
     "name": "stdout",
     "output_type": "stream",
     "text": [
      "1162128\n"
     ]
    }
   ],
   "source": [
    "c = 9372\n",
    "s = 124\n",
    "total = s * c\n",
    "\n",
    "print(total)"
   ]
  },
  {
   "cell_type": "code",
   "execution_count": 5,
   "id": "b6cc60c6",
   "metadata": {},
   "outputs": [],
   "source": [
    "Women = 45"
   ]
  },
  {
   "cell_type": "code",
   "execution_count": 6,
   "id": "40aaa764",
   "metadata": {},
   "outputs": [
    {
     "name": "stdout",
     "output_type": "stream",
     "text": [
      "45\n"
     ]
    }
   ],
   "source": [
    "print (Women)"
   ]
  },
  {
   "cell_type": "code",
   "execution_count": 7,
   "id": "a97ca1f1",
   "metadata": {},
   "outputs": [
    {
     "name": "stdout",
     "output_type": "stream",
     "text": [
      "The grocery store makes a total profit of 125.0\n"
     ]
    }
   ],
   "source": [
    "bag_ice = 1.25\n",
    "profit = bag_ice * 0.2\n",
    "Total_Sells = 500\n",
    "Total_Profits =Total_Sells * profit\n",
    "print('The grocery store makes a total profit of',Total_Profits)"
   ]
  },
  {
   "cell_type": "code",
   "execution_count": 8,
   "id": "33f9478d",
   "metadata": {},
   "outputs": [
    {
     "name": "stdout",
     "output_type": "stream",
     "text": [
      "5800\n",
      "The profit made by the company is 800\n"
     ]
    }
   ],
   "source": [
    "total_cost = 5000\n",
    "total_people = 29\n",
    "per_ticket_price = 200\n",
    "total_earn = total_people * per_ticket_price\n",
    "print(total_earn)\n",
    "profit = total_earn - total_cost\n",
    "print('The profit made by the company is', profit)"
   ]
  },
  {
   "cell_type": "code",
   "execution_count": 9,
   "id": "c5449052",
   "metadata": {},
   "outputs": [
    {
     "name": "stdout",
     "output_type": "stream",
     "text": [
      "Is ice bag is expensive? True\n"
     ]
    }
   ],
   "source": [
    "cost_of_ice_bag = 20\n",
    "is_ice_bag_expensive = cost_of_ice_bag >= 10\n",
    "print('Is ice bag is expensive?',is_ice_bag_expensive)"
   ]
  },
  {
   "cell_type": "code",
   "execution_count": 10,
   "id": "6115bfc0",
   "metadata": {},
   "outputs": [],
   "source": [
    "my_favorite_color = 'Blue'"
   ]
  },
  {
   "cell_type": "code",
   "execution_count": 11,
   "id": "75f5a026",
   "metadata": {},
   "outputs": [
    {
     "data": {
      "text/plain": [
       "'Blue'"
      ]
     },
     "execution_count": 11,
     "metadata": {},
     "output_type": "execute_result"
    }
   ],
   "source": [
    "my_favorite_color"
   ]
  },
  {
   "cell_type": "code",
   "execution_count": 12,
   "id": "937377c9",
   "metadata": {},
   "outputs": [],
   "source": [
    "color1, color2, color3, color4 = 'Red', 'Blue', 'Green', 'Yellow' "
   ]
  },
  {
   "cell_type": "code",
   "execution_count": 13,
   "id": "4be0bf3b",
   "metadata": {},
   "outputs": [
    {
     "data": {
      "text/plain": [
       "'Green'"
      ]
     },
     "execution_count": 13,
     "metadata": {},
     "output_type": "execute_result"
    }
   ],
   "source": [
    "color3"
   ]
  },
  {
   "cell_type": "code",
   "execution_count": 14,
   "id": "818a9ffb",
   "metadata": {},
   "outputs": [],
   "source": [
    "counter = 10"
   ]
  },
  {
   "cell_type": "code",
   "execution_count": 15,
   "id": "6ad58069",
   "metadata": {},
   "outputs": [
    {
     "name": "stdout",
     "output_type": "stream",
     "text": [
      "12\n"
     ]
    }
   ],
   "source": [
    "counter = counter + 2\n",
    "print(counter)"
   ]
  },
  {
   "cell_type": "code",
   "execution_count": 16,
   "id": "2ee233f3",
   "metadata": {},
   "outputs": [],
   "source": [
    "counter +=2"
   ]
  },
  {
   "cell_type": "code",
   "execution_count": 17,
   "id": "af9d47f4",
   "metadata": {},
   "outputs": [
    {
     "data": {
      "text/plain": [
       "14"
      ]
     },
     "execution_count": 17,
     "metadata": {},
     "output_type": "execute_result"
    }
   ],
   "source": [
    "counter"
   ]
  },
  {
   "cell_type": "code",
   "execution_count": 18,
   "id": "f91c811e",
   "metadata": {},
   "outputs": [],
   "source": [
    "a_musketeers = [\"Athos\", \"Porthos\", \"Aramis\"]"
   ]
  },
  {
   "cell_type": "code",
   "execution_count": 19,
   "id": "fda42ccd",
   "metadata": {
    "scrolled": true
   },
   "outputs": [
    {
     "data": {
      "text/plain": [
       "45"
      ]
     },
     "execution_count": 19,
     "metadata": {},
     "output_type": "execute_result"
    }
   ],
   "source": [
    "Women"
   ]
  },
  {
   "cell_type": "code",
   "execution_count": 20,
   "id": "e78d4ad1",
   "metadata": {},
   "outputs": [
    {
     "data": {
      "text/plain": [
       "int"
      ]
     },
     "execution_count": 20,
     "metadata": {},
     "output_type": "execute_result"
    }
   ],
   "source": [
    "type(Women)"
   ]
  },
  {
   "cell_type": "code",
   "execution_count": 21,
   "id": "6ce30d07",
   "metadata": {},
   "outputs": [],
   "source": [
    "Women = str(Women)\n"
   ]
  },
  {
   "cell_type": "code",
   "execution_count": 22,
   "id": "eb3470c8",
   "metadata": {},
   "outputs": [
    {
     "name": "stdout",
     "output_type": "stream",
     "text": [
      "Enter a number45\n",
      "Enter b number66\n",
      "<class 'str'>\n",
      "<class 'str'>\n",
      "<class 'int'>\n",
      "<class 'int'>\n"
     ]
    }
   ],
   "source": [
    "a = input('Enter a number')\n",
    "b = input('Enter b number')\n",
    "print(type(a))\n",
    "print(type(b))\n",
    "a = int(a)\n",
    "b = int(b)\n",
    "print(type(a))\n",
    "print(type(b))"
   ]
  },
  {
   "cell_type": "code",
   "execution_count": 23,
   "id": "9911c8b0",
   "metadata": {},
   "outputs": [],
   "source": [
    "pi =3.1498"
   ]
  },
  {
   "cell_type": "code",
   "execution_count": 24,
   "id": "25e23673",
   "metadata": {},
   "outputs": [
    {
     "data": {
      "text/plain": [
       "float"
      ]
     },
     "execution_count": 24,
     "metadata": {},
     "output_type": "execute_result"
    }
   ],
   "source": [
    "type(pi)"
   ]
  },
  {
   "cell_type": "code",
   "execution_count": 25,
   "id": "e0952680",
   "metadata": {},
   "outputs": [
    {
     "data": {
      "text/plain": [
       "3"
      ]
     },
     "execution_count": 25,
     "metadata": {},
     "output_type": "execute_result"
    }
   ],
   "source": [
    "int(pi)"
   ]
  },
  {
   "cell_type": "code",
   "execution_count": 26,
   "id": "01a7b6b5",
   "metadata": {},
   "outputs": [
    {
     "data": {
      "text/plain": [
       "float"
      ]
     },
     "execution_count": 26,
     "metadata": {},
     "output_type": "execute_result"
    }
   ],
   "source": [
    "type(46*4.5)"
   ]
  },
  {
   "cell_type": "code",
   "execution_count": 27,
   "id": "61a784dc",
   "metadata": {},
   "outputs": [],
   "source": [
    "is_today_is_sunday = True"
   ]
  },
  {
   "cell_type": "code",
   "execution_count": 28,
   "id": "bdab9bad",
   "metadata": {},
   "outputs": [
    {
     "data": {
      "text/plain": [
       "bool"
      ]
     },
     "execution_count": 28,
     "metadata": {},
     "output_type": "execute_result"
    }
   ],
   "source": [
    "type(is_today_is_sunday)"
   ]
  },
  {
   "cell_type": "code",
   "execution_count": 29,
   "id": "9e5dad88",
   "metadata": {},
   "outputs": [],
   "source": [
    "cost_of_ice_bag = 1.25\n",
    "is_ice_bag_expensive = cost_of_ice_bag >= 10"
   ]
  },
  {
   "cell_type": "code",
   "execution_count": 30,
   "id": "1a480e04",
   "metadata": {},
   "outputs": [
    {
     "data": {
      "text/plain": [
       "False"
      ]
     },
     "execution_count": 30,
     "metadata": {},
     "output_type": "execute_result"
    }
   ],
   "source": [
    "is_ice_bag_expensive"
   ]
  },
  {
   "cell_type": "code",
   "execution_count": 31,
   "id": "f52cb79f",
   "metadata": {},
   "outputs": [
    {
     "data": {
      "text/plain": [
       "bool"
      ]
     },
     "execution_count": 31,
     "metadata": {},
     "output_type": "execute_result"
    }
   ],
   "source": [
    "type(is_ice_bag_expensive)"
   ]
  },
  {
   "cell_type": "code",
   "execution_count": 32,
   "id": "c9d28f24",
   "metadata": {},
   "outputs": [
    {
     "data": {
      "text/plain": [
       "6"
      ]
     },
     "execution_count": 32,
     "metadata": {},
     "output_type": "execute_result"
    }
   ],
   "source": [
    "5 + is_today_is_sunday"
   ]
  },
  {
   "cell_type": "code",
   "execution_count": 33,
   "id": "4edee432",
   "metadata": {},
   "outputs": [],
   "source": [
    "my_favorite_pun = 'Thanks for explaining the word \"many\" to me, it means a lot.'"
   ]
  },
  {
   "cell_type": "code",
   "execution_count": 34,
   "id": "23c8cb7e",
   "metadata": {},
   "outputs": [
    {
     "data": {
      "text/plain": [
       "'Thanks for explaining the word \"many\" to me, it means a lot.'"
      ]
     },
     "execution_count": 34,
     "metadata": {},
     "output_type": "execute_result"
    }
   ],
   "source": [
    "my_favorite_pun"
   ]
  },
  {
   "cell_type": "code",
   "execution_count": 35,
   "id": "087f1619",
   "metadata": {},
   "outputs": [],
   "source": [
    "my_favorite_pun = \"Thanks for explaining the word \\\"many\\\" to me, it means a lot.\""
   ]
  },
  {
   "cell_type": "code",
   "execution_count": 36,
   "id": "9e34efdc",
   "metadata": {},
   "outputs": [
    {
     "data": {
      "text/plain": [
       "'Thanks for explaining the word \"many\" to me, it means a lot.'"
      ]
     },
     "execution_count": 36,
     "metadata": {},
     "output_type": "execute_result"
    }
   ],
   "source": [
    "my_favorite_pun"
   ]
  },
  {
   "cell_type": "code",
   "execution_count": 37,
   "id": "75bbcd7c",
   "metadata": {},
   "outputs": [],
   "source": [
    "full_name = 'ASAD AYUB'"
   ]
  },
  {
   "cell_type": "code",
   "execution_count": 38,
   "id": "afbd67f8",
   "metadata": {},
   "outputs": [],
   "source": [
    "Greetings = 'Hello'"
   ]
  },
  {
   "cell_type": "code",
   "execution_count": 39,
   "id": "94001222",
   "metadata": {},
   "outputs": [
    {
     "data": {
      "text/plain": [
       "'ASAD AYUB Hello'"
      ]
     },
     "execution_count": 39,
     "metadata": {},
     "output_type": "execute_result"
    }
   ],
   "source": [
    "full_name+ ' ' + Greetings"
   ]
  },
  {
   "cell_type": "code",
   "execution_count": 40,
   "id": "7713a437",
   "metadata": {},
   "outputs": [
    {
     "data": {
      "text/plain": [
       "'ASAD AYUB Hello!'"
      ]
     },
     "execution_count": 40,
     "metadata": {},
     "output_type": "execute_result"
    }
   ],
   "source": [
    "full_name+ ' ' + Greetings + '!'"
   ]
  },
  {
   "cell_type": "code",
   "execution_count": 41,
   "id": "c3de9188",
   "metadata": {},
   "outputs": [],
   "source": [
    "today = 'Sunday'"
   ]
  },
  {
   "cell_type": "code",
   "execution_count": 42,
   "id": "d1bbfdc7",
   "metadata": {},
   "outputs": [],
   "source": [
    "today = today.replace('Sunday','Saturday')"
   ]
  },
  {
   "cell_type": "code",
   "execution_count": 43,
   "id": "136d71be",
   "metadata": {},
   "outputs": [
    {
     "data": {
      "text/plain": [
       "'Saturday'"
      ]
     },
     "execution_count": 43,
     "metadata": {},
     "output_type": "execute_result"
    }
   ],
   "source": [
    "today"
   ]
  },
  {
   "cell_type": "code",
   "execution_count": 44,
   "id": "0661de90",
   "metadata": {},
   "outputs": [],
   "source": [
    "person1 = {'name' : 'John',\n",
    "          'Sex': 'Male' ,\n",
    "          'Age' : 24 }\n"
   ]
  },
  {
   "cell_type": "code",
   "execution_count": 45,
   "id": "764d3cb2",
   "metadata": {},
   "outputs": [
    {
     "data": {
      "text/plain": [
       "{'name': 'John', 'Sex': 'Male', 'Age': 24}"
      ]
     },
     "execution_count": 45,
     "metadata": {},
     "output_type": "execute_result"
    }
   ],
   "source": [
    "person1"
   ]
  },
  {
   "cell_type": "code",
   "execution_count": 46,
   "id": "6e7e5326",
   "metadata": {},
   "outputs": [],
   "source": [
    "person2 = dict(name = 'John', sex = 'Male' , Age = 22)"
   ]
  },
  {
   "cell_type": "code",
   "execution_count": 47,
   "id": "f861f6b0",
   "metadata": {},
   "outputs": [
    {
     "data": {
      "text/plain": [
       "{'name': 'John', 'sex': 'Male', 'Age': 22}"
      ]
     },
     "execution_count": 47,
     "metadata": {},
     "output_type": "execute_result"
    }
   ],
   "source": [
    "person2"
   ]
  },
  {
   "cell_type": "code",
   "execution_count": 48,
   "id": "6beb31d9",
   "metadata": {},
   "outputs": [
    {
     "name": "stdout",
     "output_type": "stream",
     "text": [
      "x is between the 2 and 5\n"
     ]
    }
   ],
   "source": [
    "x = 3\n",
    "if x < 2:\n",
    "    print('x is less than 2 ')\n",
    "elif x> 5:\n",
    "    print('x is greater than 5')\n",
    "else:\n",
    "    print('x is between the 2 and 5')"
   ]
  },
  {
   "cell_type": "code",
   "execution_count": 49,
   "id": "f1b40a05",
   "metadata": {},
   "outputs": [
    {
     "name": "stdout",
     "output_type": "stream",
     "text": [
      "2\n",
      "4\n",
      "12\n",
      "48\n",
      "240\n",
      "1440\n",
      "10080\n",
      "80640\n",
      "725760\n",
      "7257600\n",
      "79833600\n",
      "958003200\n",
      "12454041600\n",
      "174356582400\n",
      "2615348736000\n",
      "41845579776000\n",
      "711374856192000\n",
      "12804747411456000\n",
      "243290200817664000\n",
      "4865804016353280000\n",
      "102181884343418880000\n",
      "2248001455555215360000\n",
      "51704033477769953280000\n",
      "1240896803466478878720000\n",
      "31022420086661971968000000\n",
      "806582922253211271168000000\n",
      "21777738900836704321536000000\n",
      "609776689223427721003008000000\n",
      "17683523987479403909087232000000\n",
      "530505719624382117272616960000000\n",
      "16445677308355845635451125760000000\n",
      "526261673867387060334436024320000000\n",
      "17366635237623772991036388802560000000\n",
      "590465598079208281695237219287040000000\n",
      "20666295932772289859333302675046400000000\n",
      "743986653579802434935998896301670400000000\n",
      "27527506182452690092631959163161804800000000\n",
      "1046045234933202223520014448200148582400000000\n",
      "40795764162394886717280563479805794713600000000\n",
      "1631830566495795468691222539192231788544000000000\n",
      "66905053226327614216340124106881503330304000000000\n",
      "2810012235505759797086285212489023139872768000000000\n",
      "120830526126747671274710264137027995014529024000000000\n",
      "5316543149576897536087251622029231780639277056000000000\n",
      "239244441730960389123926322991315430128767467520000000000\n",
      "11005244319624177899700610857600509785923303505920000000000\n",
      "517246483022336361285928710307223959938395264778240000000000\n",
      "24827831185072145341724578094746750077042972709355520000000000\n",
      "1216563728068535121744504326642590753775105662758420480000000000\n",
      "60828186403426756087225216332129537688755283137921024000000000000\n",
      "3102237506574764560448486032938606422126519440033972224000000000000\n",
      "161316350341887757143321273712807533950579010881766555648000000000000\n",
      "8549766568120051128596027506778799299380687576733627449344000000000000\n",
      "461687394678482760944185485366055162166557129143615882264576000000000000\n",
      "25392806707316551851930201695133033919160642102898873524551680000000000000\n",
      "1421997175609726903708091294927449899472995957762336917374894080000000000000\n",
      "81053839009754433511361203810864644269960769592453204290368962560000000000000\n",
      "4701122662565757143658949821030149367657724636362285848841399828480000000000000\n",
      "277366237091379671475878039440778812691805753545374865081642589880320000000000000\n",
      "16641974225482780288552682366446728761508345212722491904898555392819200000000000000\n",
      "1015160427754449597601713624353250454452009057976072006198811878961971200000000000000\n",
      "62939946520775875051306244709901528176024561594516464384326336495642214400000000000000\n",
      "3965216630808880128232293416723796275089547380454537256212559199225459507200000000000000\n",
      "253773864371768328206866778670322961605731032349090384397603788750429408460800000000000000\n",
      "16495301184164941333446340613570992504372517102690874985844246268777911549952000000000000000\n",
      "1088689878154886128007458480495685505288586128777597749065720253739342162296832000000000000000\n",
      "72942221836377370576499718193210928854335270628099049187403257000535924873887744000000000000000\n",
      "4960071084873661199201980837138343162094798402710735344743421476036442891424366592000000000000000\n",
      "342244904856282622744936677762545678184541089787040738787296081846514559508281294848000000000000000\n",
      "23957143339939783592145567443378197472917876285092851715110725729256019165579690639360000000000000000\n",
      "1700957177135724635042335288479852020577169216241592471772861526777177360756158035394560000000000000000\n",
      "122468916753772173723048140770549345481556183569394657967646029927956769974443378548408320000000000000000\n",
      "8940230923025368681782514276250102220153601400565810031638160184740844208134366634033807360000000000000000\n",
      "661577088303877282451906056442507564291366503641869942341223853670822471401943130918501744640000000000000000\n",
      "49618281622790796183892954233188067321852487773140245675591789025311685355145734818887630848000000000000000000\n",
      "3770989403332100509975864521722293116460789070758658671344975965923688086991075846235459944448000000000000000000\n",
      "290366184056571739268141568172616569967480758448416717693563149376123982698312840160130415722496000000000000000000\n",
      "22648562356412595662915042317464092457463499158976503980097925651337670650468401532490172426354688000000000000000000\n",
      "1789236426156595057370288343079663304139616433559143814427736126455675981387003721066723621682020352000000000000000000\n",
      "143138914092527604589623067446373064331169314684731505154218890116454078510960297685337889734561628160000000000000000000\n",
      "11594252041494735971759468463156218210824714489463251917491730099432780359387784112512369068499491880960000000000000000000\n",
      "950728667402568349684276413978809893287626588135986657234321868153487989469798297226014263616958334238720000000000000000000\n",
      "78910479394413173023794942360241221142873006815286892550448715056739503125993258669759183880207541741813760000000000000000000\n",
      "6628480269130706533998775158260262576001332572484098974237692064766118262583433728259771445937433506312355840000000000000000000\n",
      "563420822876110055389895888452122318960113268661148412810203825505120052319591866902080572904681848036550246400000000000000000000\n",
      "48454190767345464763531046406882519430569741104858763501677528993440324499484900553578929269802638931143321190400000000000000000000\n",
      "4215514596759055434427201037398779190459567476122712424645945022429308231455186348161366846472829587009468943564800000000000000000000\n",
      "370965284514796878229593691291092568760441937898798693368843161973779124368056398638200282489609003656833267033702400000000000000000000\n",
      "33015910321816922162433838524907238619679332472993083709827041415666342068757019478799825141575201325458160765999513600000000000000000000\n",
      "2971431928963522994619045467241651475771139922569377533884433727409970786188131753091984262741768119291234468939956224000000000000000000000\n",
      "270400305535680592510333137518990284295173732953813355583483469194307341543119989531370567909500898855502336673536016384000000000000000000000\n",
      "24876828109282614510950648651747106155155983431750828713680479165876275421967039036886092247674082694706214973965313507328000000000000000000000\n",
      "2313545014163283149518410324612480872429506459152827070372284562426493614242934630430406579033689690607677992578774156181504000000000000000000000\n",
      "217473231331348616054730570513573202008373607160365744614994748868090399738835855260458218429166830917121731302404770681061376000000000000000000000\n",
      "20659956976478118525199404198789454190795492680234745738424501142468587975189406249743530750770848937126564473728453214700830720000000000000000000000\n",
      "1983355869741899378419142803083787602316367297302535590888752109676984445618182999975378952074001497964150189477931508611279749120000000000000000000000\n",
      "192385519364964239706656851899127397424687627838345952316208954638667491224963750997611758351178145302522568379359356335294135664640000000000000000000000\n",
      "18853780897766495491252371486114484947619387528157903326988477554589414140046447597765952318415458239647211701177216920858825295134720000000000000000000000\n",
      "1866524308878883053633984777125334009814319365287632429371859277904351999864598312178829279523130365725073958416544475165023704218337280000000000000000000000\n",
      "186652430887888305363398477712533400981431936528763242937185927790435199986459831217882927952313036572507395841654447516502370421833728000000000000000000000000\n"
     ]
    }
   ],
   "source": [
    "i = 1\n",
    "result = 2\n",
    "while i <= 100:\n",
    "    result = result * i\n",
    "    i = i+1\n",
    "    print (result)"
   ]
  },
  {
   "cell_type": "code",
   "execution_count": 50,
   "id": "443dc11c",
   "metadata": {},
   "outputs": [
    {
     "name": "stdout",
     "output_type": "stream",
     "text": [
      "a 1\n",
      "b 2\n"
     ]
    }
   ],
   "source": [
    "person = {'a':1, 'b': 2}\n",
    "for key in person:\n",
    "    print(key,person[key])"
   ]
  },
  {
   "cell_type": "code",
   "execution_count": 51,
   "id": "da0673bd",
   "metadata": {},
   "outputs": [
    {
     "name": "stdout",
     "output_type": "stream",
     "text": [
      "We are in if loop\n",
      "The given number 12 is even.\n"
     ]
    }
   ],
   "source": [
    "a_number = 12\n",
    "if a_number % 2 == 0:\n",
    "    print('We are in if loop')\n",
    "    print('The given number {} is even.'.format(a_number))"
   ]
  },
  {
   "cell_type": "code",
   "execution_count": 52,
   "id": "02e0f09c",
   "metadata": {},
   "outputs": [
    {
     "name": "stdout",
     "output_type": "stream",
     "text": [
      "Enter the number 44\n",
      "The Given number 44 is even.\n"
     ]
    }
   ],
   "source": [
    "a_number = input('Enter the number ')\n",
    "a_number = int(a_number)\n",
    "if a_number % 2 == 0:\n",
    "    print('The Given number {} is even.'.format(a_number))\n",
    "else:\n",
    "    print('The Given number {} is odd.'.format(a_number))\n",
    "    \n"
   ]
  },
  {
   "cell_type": "code",
   "execution_count": 53,
   "id": "cd3918ae",
   "metadata": {},
   "outputs": [
    {
     "name": "stdout",
     "output_type": "stream",
     "text": [
      "Enter the Day's Name Sunday\n",
      "Today is Sunday\n"
     ]
    }
   ],
   "source": [
    "today = input(\"Enter the Day's Name \")\n",
    "#today = 'sunday' \n",
    "\n",
    "if today == 'Monday':\n",
    "    print ('Today is {}'.format(today))\n",
    "elif today == 'Tuesday':\n",
    "     print ('Today is {}'.format(today))\n",
    "elif today == 'Wednesday':\n",
    "    print ('Today is {}'.format(today))\n",
    "elif today == 'Thursday':\n",
    "    print ('Today is {}'.format(today))\n",
    "elif today == 'Friday':\n",
    "    print ('Today is {}'.format(today))\n",
    "elif today == 'Saturday':\n",
    "    print ('Today is {}'.format(today))\n",
    "elif today == 'Sunday':\n",
    "    print ('Today is {}'.format(today))\n",
    "else:\n",
    "    print('You enter the Wrong name, Write with first letter Capital')\n",
    "    print('Enter the name again')\n",
    "    \n"
   ]
  },
  {
   "cell_type": "code",
   "execution_count": 54,
   "id": "dd7db35e",
   "metadata": {},
   "outputs": [
    {
     "name": "stdout",
     "output_type": "stream",
     "text": [
      "Enter the number44\n",
      "44 is divisible by 2\n"
     ]
    }
   ],
   "source": [
    "a_number = input('Enter the number')\n",
    "a_number = int(a_number)\n",
    "if a_number % 2 == 0:\n",
    "    print('{} is divisible by 2' .format(a_number))\n",
    "elif a_number % 3 == 0:\n",
    "    print('{} is divisible by 3' .format(a_number))\n",
    "elif a_number % 5 == 0:\n",
    "    print('{} is divisible by 5' .format(a_number))\n",
    "else:\n",
    "    print('All Check failed!')\n",
    "    print('{} is not divisible by 2,3,5' .format(a_number))\n",
    "    "
   ]
  },
  {
   "cell_type": "code",
   "execution_count": 55,
   "id": "6f0efcd6",
   "metadata": {},
   "outputs": [
    {
     "name": "stdout",
     "output_type": "stream",
     "text": [
      "The factorial of the 100 1\n",
      "The factorial of the 100 2\n",
      "The factorial of the 100 6\n",
      "The factorial of the 100 24\n",
      "The factorial of the 100 120\n",
      "The factorial of the 100 720\n",
      "The factorial of the 100 5040\n",
      "The factorial of the 100 40320\n",
      "The factorial of the 100 362880\n",
      "The factorial of the 100 3628800\n",
      "The factorial of the 100 39916800\n",
      "The factorial of the 100 479001600\n",
      "The factorial of the 100 6227020800\n",
      "The factorial of the 100 87178291200\n",
      "The factorial of the 100 1307674368000\n",
      "The factorial of the 100 20922789888000\n",
      "The factorial of the 100 355687428096000\n",
      "The factorial of the 100 6402373705728000\n",
      "The factorial of the 100 121645100408832000\n",
      "The factorial of the 100 2432902008176640000\n",
      "The factorial of the 100 51090942171709440000\n",
      "The factorial of the 100 1124000727777607680000\n",
      "The factorial of the 100 25852016738884976640000\n",
      "The factorial of the 100 620448401733239439360000\n",
      "The factorial of the 100 15511210043330985984000000\n",
      "The factorial of the 100 403291461126605635584000000\n",
      "The factorial of the 100 10888869450418352160768000000\n",
      "The factorial of the 100 304888344611713860501504000000\n",
      "The factorial of the 100 8841761993739701954543616000000\n",
      "The factorial of the 100 265252859812191058636308480000000\n",
      "The factorial of the 100 8222838654177922817725562880000000\n",
      "The factorial of the 100 263130836933693530167218012160000000\n",
      "The factorial of the 100 8683317618811886495518194401280000000\n",
      "The factorial of the 100 295232799039604140847618609643520000000\n",
      "The factorial of the 100 10333147966386144929666651337523200000000\n",
      "The factorial of the 100 371993326789901217467999448150835200000000\n",
      "The factorial of the 100 13763753091226345046315979581580902400000000\n",
      "The factorial of the 100 523022617466601111760007224100074291200000000\n",
      "The factorial of the 100 20397882081197443358640281739902897356800000000\n",
      "The factorial of the 100 815915283247897734345611269596115894272000000000\n",
      "The factorial of the 100 33452526613163807108170062053440751665152000000000\n",
      "The factorial of the 100 1405006117752879898543142606244511569936384000000000\n",
      "The factorial of the 100 60415263063373835637355132068513997507264512000000000\n",
      "The factorial of the 100 2658271574788448768043625811014615890319638528000000000\n",
      "The factorial of the 100 119622220865480194561963161495657715064383733760000000000\n",
      "The factorial of the 100 5502622159812088949850305428800254892961651752960000000000\n",
      "The factorial of the 100 258623241511168180642964355153611979969197632389120000000000\n",
      "The factorial of the 100 12413915592536072670862289047373375038521486354677760000000000\n",
      "The factorial of the 100 608281864034267560872252163321295376887552831379210240000000000\n",
      "The factorial of the 100 30414093201713378043612608166064768844377641568960512000000000000\n",
      "The factorial of the 100 1551118753287382280224243016469303211063259720016986112000000000000\n",
      "The factorial of the 100 80658175170943878571660636856403766975289505440883277824000000000000\n",
      "The factorial of the 100 4274883284060025564298013753389399649690343788366813724672000000000000\n",
      "The factorial of the 100 230843697339241380472092742683027581083278564571807941132288000000000000\n",
      "The factorial of the 100 12696403353658275925965100847566516959580321051449436762275840000000000000\n",
      "The factorial of the 100 710998587804863451854045647463724949736497978881168458687447040000000000000\n",
      "The factorial of the 100 40526919504877216755680601905432322134980384796226602145184481280000000000000\n",
      "The factorial of the 100 2350561331282878571829474910515074683828862318181142924420699914240000000000000\n",
      "The factorial of the 100 138683118545689835737939019720389406345902876772687432540821294940160000000000000\n",
      "The factorial of the 100 8320987112741390144276341183223364380754172606361245952449277696409600000000000000\n",
      "The factorial of the 100 507580213877224798800856812176625227226004528988036003099405939480985600000000000000\n",
      "The factorial of the 100 31469973260387937525653122354950764088012280797258232192163168247821107200000000000000\n",
      "The factorial of the 100 1982608315404440064116146708361898137544773690227268628106279599612729753600000000000000\n",
      "The factorial of the 100 126886932185884164103433389335161480802865516174545192198801894375214704230400000000000000\n",
      "The factorial of the 100 8247650592082470666723170306785496252186258551345437492922123134388955774976000000000000000\n",
      "The factorial of the 100 544344939077443064003729240247842752644293064388798874532860126869671081148416000000000000000\n",
      "The factorial of the 100 36471110918188685288249859096605464427167635314049524593701628500267962436943872000000000000000\n",
      "The factorial of the 100 2480035542436830599600990418569171581047399201355367672371710738018221445712183296000000000000000\n",
      "The factorial of the 100 171122452428141311372468338881272839092270544893520369393648040923257279754140647424000000000000000\n",
      "The factorial of the 100 11978571669969891796072783721689098736458938142546425857555362864628009582789845319680000000000000000\n",
      "The factorial of the 100 850478588567862317521167644239926010288584608120796235886430763388588680378079017697280000000000000000\n",
      "The factorial of the 100 61234458376886086861524070385274672740778091784697328983823014963978384987221689274204160000000000000000\n",
      "The factorial of the 100 4470115461512684340891257138125051110076800700282905015819080092370422104067183317016903680000000000000000\n",
      "The factorial of the 100 330788544151938641225953028221253782145683251820934971170611926835411235700971565459250872320000000000000000\n",
      "The factorial of the 100 24809140811395398091946477116594033660926243886570122837795894512655842677572867409443815424000000000000000000\n",
      "The factorial of the 100 1885494701666050254987932260861146558230394535379329335672487982961844043495537923117729972224000000000000000000\n",
      "The factorial of the 100 145183092028285869634070784086308284983740379224208358846781574688061991349156420080065207861248000000000000000000\n",
      "The factorial of the 100 11324281178206297831457521158732046228731749579488251990048962825668835325234200766245086213177344000000000000000000\n",
      "The factorial of the 100 894618213078297528685144171539831652069808216779571907213868063227837990693501860533361810841010176000000000000000000\n",
      "The factorial of the 100 71569457046263802294811533723186532165584657342365752577109445058227039255480148842668944867280814080000000000000000000\n",
      "The factorial of the 100 5797126020747367985879734231578109105412357244731625958745865049716390179693892056256184534249745940480000000000000000000\n",
      "The factorial of the 100 475364333701284174842138206989404946643813294067993328617160934076743994734899148613007131808479167119360000000000000000000\n",
      "The factorial of the 100 39455239697206586511897471180120610571436503407643446275224357528369751562996629334879591940103770870906880000000000000000000\n",
      "The factorial of the 100 3314240134565353266999387579130131288000666286242049487118846032383059131291716864129885722968716753156177920000000000000000000\n",
      "The factorial of the 100 281710411438055027694947944226061159480056634330574206405101912752560026159795933451040286452340924018275123200000000000000000000\n",
      "The factorial of the 100 24227095383672732381765523203441259715284870552429381750838764496720162249742450276789464634901319465571660595200000000000000000000\n",
      "The factorial of the 100 2107757298379527717213600518699389595229783738061356212322972511214654115727593174080683423236414793504734471782400000000000000000000\n",
      "The factorial of the 100 185482642257398439114796845645546284380220968949399346684421580986889562184028199319100141244804501828416633516851200000000000000000000\n",
      "The factorial of the 100 16507955160908461081216919262453619309839666236496541854913520707833171034378509739399912570787600662729080382999756800000000000000000000\n",
      "The factorial of the 100 1485715964481761497309522733620825737885569961284688766942216863704985393094065876545992131370884059645617234469978112000000000000000000000\n",
      "The factorial of the 100 135200152767840296255166568759495142147586866476906677791741734597153670771559994765685283954750449427751168336768008192000000000000000000000\n",
      "The factorial of the 100 12438414054641307255475324325873553077577991715875414356840239582938137710983519518443046123837041347353107486982656753664000000000000000000000\n",
      "The factorial of the 100 1156772507081641574759205162306240436214753229576413535186142281213246807121467315215203289516844845303838996289387078090752000000000000000000000\n",
      "The factorial of the 100 108736615665674308027365285256786601004186803580182872307497374434045199869417927630229109214583415458560865651202385340530688000000000000000000000\n",
      "The factorial of the 100 10329978488239059262599702099394727095397746340117372869212250571234293987594703124871765375385424468563282236864226607350415360000000000000000000000\n",
      "The factorial of the 100 991677934870949689209571401541893801158183648651267795444376054838492222809091499987689476037000748982075094738965754305639874560000000000000000000000\n",
      "The factorial of the 100 96192759682482119853328425949563698712343813919172976158104477319333745612481875498805879175589072651261284189679678167647067832320000000000000000000000\n",
      "The factorial of the 100 9426890448883247745626185743057242473809693764078951663494238777294707070023223798882976159207729119823605850588608460429412647567360000000000000000000000\n",
      "The factorial of the 100 933262154439441526816992388562667004907159682643816214685929638952175999932299156089414639761565182862536979208272237582511852109168640000000000000000000000\n",
      "The factorial of the 100 93326215443944152681699238856266700490715968264381621468592963895217599993229915608941463976156518286253697920827223758251185210916864000000000000000000000000\n"
     ]
    }
   ],
   "source": [
    "result = 1\n",
    "i = 1\n",
    "while i <= 100:\n",
    "    result = result * i\n",
    "    i = i + 1\n",
    "    print('The factorial of the 100 {}' .format(result))\n",
    "    "
   ]
  },
  {
   "cell_type": "code",
   "execution_count": 56,
   "id": "89ae5f22",
   "metadata": {},
   "outputs": [
    {
     "name": "stdout",
     "output_type": "stream",
     "text": [
      "i: 2\n",
      "result:  1\n",
      "i: 3\n",
      "result:  2\n",
      "i: 4\n",
      "result:  6\n",
      "i: 5\n",
      "result:  24\n",
      "i: 6\n",
      "result:  120\n",
      "i: 7\n",
      "result:  720\n",
      "i: 8\n",
      "result:  5040\n",
      "i: 9\n",
      "result:  40320\n",
      "i: 10\n",
      "result:  362880\n",
      "i: 11\n",
      "result:  3628800\n",
      "i: 12\n",
      "result:  39916800\n",
      "i: 13\n",
      "result:  479001600\n",
      "i: 14\n",
      "result:  6227020800\n",
      "i: 15\n",
      "result:  87178291200\n",
      "i: 16\n",
      "result:  1307674368000\n",
      "i: 17\n",
      "result:  20922789888000\n",
      "i: 18\n",
      "result:  355687428096000\n",
      "i: 19\n",
      "result:  6402373705728000\n",
      "i: 20\n",
      "result:  121645100408832000\n",
      "i: 21\n",
      "result:  2432902008176640000\n",
      "i: 22\n",
      "result:  51090942171709440000\n",
      "i: 23\n",
      "result:  1124000727777607680000\n",
      "i: 24\n",
      "result:  25852016738884976640000\n",
      "i: 25\n",
      "result:  620448401733239439360000\n",
      "i: 26\n",
      "result:  15511210043330985984000000\n",
      "i: 27\n",
      "result:  403291461126605635584000000\n",
      "i: 28\n",
      "result:  10888869450418352160768000000\n",
      "i: 29\n",
      "result:  304888344611713860501504000000\n",
      "i: 30\n",
      "result:  8841761993739701954543616000000\n",
      "i: 31\n",
      "result:  265252859812191058636308480000000\n",
      "i: 32\n",
      "result:  8222838654177922817725562880000000\n",
      "i: 33\n",
      "result:  263130836933693530167218012160000000\n",
      "i: 34\n",
      "result:  8683317618811886495518194401280000000\n",
      "i: 35\n",
      "result:  295232799039604140847618609643520000000\n",
      "i: 36\n",
      "result:  10333147966386144929666651337523200000000\n",
      "i: 37\n",
      "result:  371993326789901217467999448150835200000000\n",
      "i: 38\n",
      "result:  13763753091226345046315979581580902400000000\n",
      "i: 39\n",
      "result:  523022617466601111760007224100074291200000000\n",
      "i: 40\n",
      "result:  20397882081197443358640281739902897356800000000\n",
      "i: 41\n",
      "result:  815915283247897734345611269596115894272000000000\n",
      "i: 42\n",
      "result:  33452526613163807108170062053440751665152000000000\n",
      "Magic number 42 is reached\n"
     ]
    }
   ],
   "source": [
    "i = 1\n",
    "result = 1\n",
    "while i <= 100:\n",
    "    result *= i \n",
    "    if i == 42:\n",
    "        print ('Magic number 42 is reached')\n",
    "        break \n",
    "    i += 1\n",
    "    print ('i:' , i)\n",
    "    print ('result: ' , result)"
   ]
  },
  {
   "cell_type": "code",
   "execution_count": 57,
   "id": "454c178e",
   "metadata": {},
   "outputs": [
    {
     "name": "stdout",
     "output_type": "stream",
     "text": [
      "Monday\n",
      "Tuesday\n",
      "Wednesday\n",
      "Thursday\n",
      "Friday\n"
     ]
    }
   ],
   "source": [
    "days = ['Monday', 'Tuesday', 'Wednesday', 'Thursday', 'Friday']\n",
    "for day in days:\n",
    "    print (day)"
   ]
  },
  {
   "cell_type": "code",
   "execution_count": 58,
   "id": "b1c18b1a",
   "metadata": {},
   "outputs": [
    {
     "name": "stdout",
     "output_type": "stream",
     "text": [
      "Today is Monday\n",
      "Today is Tuesday\n",
      "Today is Wednesday\n",
      "Today on Wednesday have to more work\n"
     ]
    }
   ],
   "source": [
    "Weekdays = ['Monday', 'Tuesday', 'Wednesday', 'Thursday', 'Friday']\n",
    "for day in Weekdays:\n",
    "    print('Today is {}'.format(day))\n",
    "    if day == 'Wednesday':\n",
    "        print('Today on Wednesday have to more work')\n",
    "        break\n",
    "        "
   ]
  },
  {
   "cell_type": "code",
   "execution_count": 59,
   "id": "9566ec04",
   "metadata": {},
   "outputs": [
    {
     "name": "stdout",
     "output_type": "stream",
     "text": [
      "Today is Monday\n",
      "Today is Tuesday\n",
      "Today on Wednesday have to more work\n",
      "Today is Thursday\n",
      "Today is Friday\n"
     ]
    }
   ],
   "source": [
    "Weekdays = ['Monday', 'Tuesday', 'Wednesday', 'Thursday', 'Friday']\n",
    "for day in Weekdays:\n",
    "    if day == 'Wednesday':\n",
    "        print('Today on Wednesday have to more work')\n",
    "        continue\n",
    "    print('Today is {}'.format(day))\n",
    "    "
   ]
  }
 ],
 "metadata": {
  "kernelspec": {
   "display_name": "Python 3 (ipykernel)",
   "language": "python",
   "name": "python3"
  },
  "language_info": {
   "codemirror_mode": {
    "name": "ipython",
    "version": 3
   },
   "file_extension": ".py",
   "mimetype": "text/x-python",
   "name": "python",
   "nbconvert_exporter": "python",
   "pygments_lexer": "ipython3",
   "version": "3.11.5"
  }
 },
 "nbformat": 4,
 "nbformat_minor": 5
}
