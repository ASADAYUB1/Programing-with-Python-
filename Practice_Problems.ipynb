{
 "cells": [
  {
   "cell_type": "markdown",
   "id": "66e5d32d",
   "metadata": {},
   "source": [
    "##  Variables and Data Types"
   ]
  },
  {
   "cell_type": "code",
   "execution_count": 1,
   "id": "42dd6385",
   "metadata": {},
   "outputs": [],
   "source": [
    "Name = 'ASAD'"
   ]
  },
  {
   "cell_type": "code",
   "execution_count": 2,
   "id": "c1df6a45",
   "metadata": {},
   "outputs": [],
   "source": [
    "Age = 28"
   ]
  },
  {
   "cell_type": "code",
   "execution_count": 3,
   "id": "2271a5cd",
   "metadata": {},
   "outputs": [],
   "source": [
    "phone_is_android = True"
   ]
  },
  {
   "cell_type": "code",
   "execution_count": 4,
   "id": "2d00ed61",
   "metadata": {},
   "outputs": [
    {
     "data": {
      "text/plain": [
       "('ASAD', 28, True)"
      ]
     },
     "execution_count": 4,
     "metadata": {},
     "output_type": "execute_result"
    }
   ],
   "source": [
    "Name, Age, phone_is_android"
   ]
  },
  {
   "cell_type": "code",
   "execution_count": 5,
   "id": "eb65c535",
   "metadata": {},
   "outputs": [],
   "source": [
    "Person = {'Name': 'Asad', 'Age': 28, 'phone_is_android' : True }"
   ]
  },
  {
   "cell_type": "code",
   "execution_count": 6,
   "id": "9071bb42",
   "metadata": {},
   "outputs": [
    {
     "data": {
      "text/plain": [
       "{'Name': 'Asad', 'Age': 28, 'phone_is_android': True}"
      ]
     },
     "execution_count": 6,
     "metadata": {},
     "output_type": "execute_result"
    }
   ],
   "source": [
    "Person"
   ]
  },
  {
   "cell_type": "code",
   "execution_count": 7,
   "id": "dce5175a",
   "metadata": {},
   "outputs": [
    {
     "name": "stdout",
     "output_type": "stream",
     "text": [
      "Asad is aged 28, and own an True.\n"
     ]
    }
   ],
   "source": [
    "print('{} is aged {}, and own an {}.'.format(Person['Name'], Person['Age'], Person['phone_is_android'] ))"
   ]
  },
  {
   "cell_type": "code",
   "execution_count": 8,
   "id": "eb5a114a",
   "metadata": {},
   "outputs": [
    {
     "name": "stdout",
     "output_type": "stream",
     "text": [
      "My Name is Asad\n",
      "My Age is 28\n",
      "My phone_is_android is True\n"
     ]
    }
   ],
   "source": [
    "for key in Person:\n",
    "    print('My', key, 'is', Person[key])"
   ]
  },
  {
   "cell_type": "markdown",
   "id": "c06eb7f8",
   "metadata": {},
   "source": [
    "##  Working with Lists"
   ]
  },
  {
   "cell_type": "code",
   "execution_count": 9,
   "id": "8f46487c",
   "metadata": {},
   "outputs": [],
   "source": [
    "favorite_color = 'Blue'\n",
    "pets = 6\n",
    "previous_coding_experience = True"
   ]
  },
  {
   "cell_type": "code",
   "execution_count": 10,
   "id": "2de42645",
   "metadata": {},
   "outputs": [],
   "source": [
    "my_list = [ favorite_color, pets, previous_coding_experience ]"
   ]
  },
  {
   "cell_type": "code",
   "execution_count": 11,
   "id": "977dbba4",
   "metadata": {},
   "outputs": [
    {
     "data": {
      "text/plain": [
       "['Blue', 6, True]"
      ]
     },
     "execution_count": 11,
     "metadata": {},
     "output_type": "execute_result"
    }
   ],
   "source": [
    "my_list"
   ]
  },
  {
   "cell_type": "code",
   "execution_count": 12,
   "id": "3d0da369",
   "metadata": {},
   "outputs": [
    {
     "name": "stdout",
     "output_type": "stream",
     "text": [
      "My favorite color is Blue\n"
     ]
    }
   ],
   "source": [
    "print('My favorite color is' ,my_list[0] )"
   ]
  },
  {
   "cell_type": "code",
   "execution_count": 13,
   "id": "f0def079",
   "metadata": {},
   "outputs": [
    {
     "name": "stdout",
     "output_type": "stream",
     "text": [
      "I have 6 Pets. \n"
     ]
    }
   ],
   "source": [
    "print('I have {} Pets. '. format(my_list[1]))"
   ]
  },
  {
   "cell_type": "code",
   "execution_count": 14,
   "id": "90a03424",
   "metadata": {
    "scrolled": true
   },
   "outputs": [
    {
     "name": "stdout",
     "output_type": "stream",
     "text": [
      "I have previous coding experience\n"
     ]
    }
   ],
   "source": [
    "if previous_coding_experience == False :\n",
    "    print('I do not have previous coding experience')\n",
    "else:\n",
    "    print('I have previous coding experience')"
   ]
  },
  {
   "cell_type": "code",
   "execution_count": 15,
   "id": "bdf50816",
   "metadata": {
    "scrolled": true
   },
   "outputs": [],
   "source": [
    "my_list .append(9)"
   ]
  },
  {
   "cell_type": "code",
   "execution_count": 16,
   "id": "606014ed",
   "metadata": {},
   "outputs": [
    {
     "data": {
      "text/plain": [
       "['Blue', 6, True, 9]"
      ]
     },
     "execution_count": 16,
     "metadata": {},
     "output_type": "execute_result"
    }
   ],
   "source": [
    "my_list"
   ]
  },
  {
   "cell_type": "code",
   "execution_count": 17,
   "id": "5d052081",
   "metadata": {},
   "outputs": [],
   "source": [
    "my_list . remove('Blue')"
   ]
  },
  {
   "cell_type": "code",
   "execution_count": 18,
   "id": "4cec7eeb",
   "metadata": {},
   "outputs": [
    {
     "data": {
      "text/plain": [
       "[6, True, 9]"
      ]
     },
     "execution_count": 18,
     "metadata": {},
     "output_type": "execute_result"
    }
   ],
   "source": [
    "my_list"
   ]
  },
  {
   "cell_type": "code",
   "execution_count": 19,
   "id": "d0c32bab",
   "metadata": {},
   "outputs": [],
   "source": [
    "number_of_elemants = len(my_list)"
   ]
  },
  {
   "cell_type": "code",
   "execution_count": 20,
   "id": "dc501b00",
   "metadata": {},
   "outputs": [
    {
     "name": "stdout",
     "output_type": "stream",
     "text": [
      "The list has 3 elements.\n"
     ]
    }
   ],
   "source": [
    "print('The list has {} elements.' .format(number_of_elemants))"
   ]
  },
  {
   "cell_type": "code",
   "execution_count": 21,
   "id": "0efe9bf6",
   "metadata": {},
   "outputs": [
    {
     "name": "stdout",
     "output_type": "stream",
     "text": [
      "The list has 3 elements.\n"
     ]
    }
   ],
   "source": [
    "print('The list has {} elements.' .format(len(my_list)))"
   ]
  },
  {
   "cell_type": "markdown",
   "id": "b6156a06",
   "metadata": {},
   "source": [
    "##  Conditions and loops\n"
   ]
  },
  {
   "cell_type": "code",
   "execution_count": 26,
   "id": "cb7a0174",
   "metadata": {},
   "outputs": [
    {
     "name": "stdout",
     "output_type": "stream",
     "text": [
      "The sum of all the numbers divisible by 7 between 18 and 534 is 20461 \n"
     ]
    }
   ],
   "source": [
    "total = 0\n",
    "n = 18\n",
    "while n <= 534:\n",
    "        if not n%7:\n",
    "            total+=n\n",
    "        n= n+1\n",
    "\n",
    "#print(total)\n",
    "print('The sum of all the numbers divisible by 7 between 18 and 534 is {} ' .format(total))\n",
    "    "
   ]
  },
  {
   "cell_type": "code",
   "execution_count": 24,
   "id": "773e5f03",
   "metadata": {},
   "outputs": [
    {
     "name": "stdout",
     "output_type": "stream",
     "text": [
      "1\n",
      "2\n",
      "3\n",
      "4\n",
      "5\n",
      "6\n",
      "7\n",
      "8\n",
      "9\n",
      "10\n"
     ]
    }
   ],
   "source": [
    "i = 1\n",
    "while(i<=10):\n",
    "    print(i)    \n",
    "    i += 1"
   ]
  },
  {
   "cell_type": "code",
   "execution_count": null,
   "id": "f64c83a5",
   "metadata": {},
   "outputs": [],
   "source": []
  },
  {
   "cell_type": "markdown",
   "id": "b3d270e8",
   "metadata": {},
   "source": [
    "##  Flying to the Lahore"
   ]
  },
  {
   "cell_type": "code",
   "execution_count": 29,
   "id": "76a03691",
   "metadata": {},
   "outputs": [
    {
     "name": "stdout",
     "output_type": "stream",
     "text": [
      "The company makes of a profit of 800 dollars\n"
     ]
    }
   ],
   "source": [
    "cost_of_flying_plan = 5000\n",
    "number_of_passengers = 29\n",
    "Price_of_ticket = 200\n",
    "Earn_money = number_of_passengers * Price_of_ticket\n",
    "Profit = Earn_money - cost_of_flying_plan\n",
    "print('The company makes of a profit of {} dollars'.format(Profit))"
   ]
  },
  {
   "cell_type": "code",
   "execution_count": 32,
   "id": "fb8adf7b",
   "metadata": {},
   "outputs": [
    {
     "name": "stdout",
     "output_type": "stream",
     "text": [
      "The company is in the Loss of 2600 dollars\n",
      "2600\n"
     ]
    }
   ],
   "source": [
    "cost_of_flying_plan_return = 5000\n",
    "number_of_passengers = 29\n",
    "Price_of_ticket = 200\n",
    "Earn_money = number_of_passengers * Price_of_ticket\n",
    "Profit_For_Going = Earn_money - cost_of_flying_plan\n",
    "number_of_passengers_return = 12\n",
    "Earn_money_from_return = number_of_passengers_return * Price_of_ticket\n",
    "\n",
    "Loss = cost_of_flying_plan_return - Earn_money_from_return\n",
    "print('The company is in the Loss of {} dollars'.format(Loss))"
   ]
  },
  {
   "cell_type": "code",
   "execution_count": 37,
   "id": "ba3ca665",
   "metadata": {},
   "outputs": [
    {
     "name": "stdout",
     "output_type": "stream",
     "text": [
      "The company makes of a profit of 800 dollars in Going\n",
      "The company is in the Loss of 2600 dollars\n",
      "8200\n",
      "False\n",
      "The company makes an overall loss of 1800 dollars\n"
     ]
    }
   ],
   "source": [
    "cost_of_flying_plan_return = 5000\n",
    "cost_of_flying_plan = 5000\n",
    "number_of_passengers = 29\n",
    "Price_of_ticket = 200\n",
    "number_of_passengers_return = 12\n",
    "Earn_money = number_of_passengers * Price_of_ticket\n",
    "Earn_money_from_return = number_of_passengers_return * Price_of_ticket\n",
    "Profit_For_Going = Earn_money - cost_of_flying_plan\n",
    "Loss = cost_of_flying_plan_return - Earn_money_from_return\n",
    "print('The company makes of a profit of {} dollars in Going'.format(Profit_For_Going))\n",
    "print('The company is in the Loss of {} dollars'.format(Loss))\n",
    "Total_Plan_Cost = cost_of_flying_plan + cost_of_flying_plan_return\n",
    "Total_make_Money = Earn_money + Earn_money_from_return\n",
    "Total_loss = Total_Plan_Cost - Total_make_Money\n",
    "print(Total_make_Money)\n",
    "Loss = Total_make_Money > Total_Plan_Cost\n",
    "print(Loss)\n",
    "if Loss == True:\n",
    "    print('The company makes an overall profit of {} dollars' .format(Total_make_Money))\n",
    "else:\n",
    "    print('The company makes an overall loss of {} dollars' .format(Total_loss))\n",
    "    \n"
   ]
  },
  {
   "cell_type": "code",
   "execution_count": null,
   "id": "57687eb9",
   "metadata": {},
   "outputs": [],
   "source": []
  },
  {
   "cell_type": "code",
   "execution_count": 46,
   "id": "1bbef7c0",
   "metadata": {},
   "outputs": [],
   "source": [
    "tweets = [\n",
    "    \"Wow, what a great day today!! #sunshine\",\n",
    "    \"I feel sad about the things going on around us. #covid19\",\n",
    "    \"I'm really excited to learn Python with @JovianML #zerotopandas\",\n",
    "    \"This is a really nice song. #linkinpark\",\n",
    "    \"The python programming language is useful for data science\",\n",
    "    \"Why do bad things happen to me?\",\n",
    "    \"Apple announces the release of the new iPhone 12. Fans are excited.\",\n",
    "    \"Spent my day with family!! #happy\",\n",
    "    \"Check out my blog post on common string operations in Python. #zerotopandas\",\n",
    "    \"Freecodecamp has great coding tutorials. #skillup\"\n",
    "]"
   ]
  },
  {
   "cell_type": "code",
   "execution_count": 42,
   "id": "f744af88",
   "metadata": {},
   "outputs": [
    {
     "name": "stdout",
     "output_type": "stream",
     "text": [
      "10\n"
     ]
    }
   ],
   "source": [
    "number_of_tweets = len(tweets)\n",
    "print(number_of_tweets)"
   ]
  },
  {
   "cell_type": "code",
   "execution_count": 43,
   "id": "35d31f74",
   "metadata": {},
   "outputs": [],
   "source": [
    "happy_words = ['great', 'excited', 'happy', 'nice', 'wonderful', 'amazing', 'good', 'best']"
   ]
  },
  {
   "cell_type": "code",
   "execution_count": 44,
   "id": "fa557c71",
   "metadata": {},
   "outputs": [],
   "source": [
    "sad_words = ['sad', 'bad', 'tragic', 'unhappy', 'worst']"
   ]
  },
  {
   "cell_type": "code",
   "execution_count": 54,
   "id": "4d91de71",
   "metadata": {},
   "outputs": [
    {
     "name": "stdout",
     "output_type": "stream",
     "text": [
      "Number of happy tweets: 6\n"
     ]
    }
   ],
   "source": [
    "number_of_happy_tweets = 0\n",
    "\n",
    "for tweet in tweets:\n",
    "    for word in happy_words:\n",
    "        if word in tweet:\n",
    "            number_of_happy_tweets += 1\n",
    "\n",
    "print(\"Number of happy tweets:\", number_of_happy_tweets)"
   ]
  },
  {
   "cell_type": "code",
   "execution_count": 56,
   "id": "42b8815a",
   "metadata": {},
   "outputs": [],
   "source": [
    "happy_fraction = number_of_happy_tweets/ number_of_tweets"
   ]
  },
  {
   "cell_type": "code",
   "execution_count": 57,
   "id": "369c57c3",
   "metadata": {},
   "outputs": [
    {
     "name": "stdout",
     "output_type": "stream",
     "text": [
      "The fraction of happy tweets is:  0.6\n"
     ]
    }
   ],
   "source": [
    "print ('The fraction of happy tweets is: ', happy_fraction )"
   ]
  },
  {
   "cell_type": "code",
   "execution_count": 58,
   "id": "644400d7",
   "metadata": {},
   "outputs": [
    {
     "name": "stdout",
     "output_type": "stream",
     "text": [
      "Number of sad tweets: 2\n"
     ]
    }
   ],
   "source": [
    "number_of_sad_tweets = 0\n",
    "\n",
    "for tweet in tweets:\n",
    "    for word in sad_words:\n",
    "        if word in tweet:\n",
    "            number_of_sad_tweets += 1\n",
    "\n",
    "print(\"Number of sad tweets:\", number_of_sad_tweets)"
   ]
  },
  {
   "cell_type": "code",
   "execution_count": 60,
   "id": "eea7c40b",
   "metadata": {},
   "outputs": [],
   "source": [
    "sad_fraction = number_of_sad_tweets/ number_of_tweets"
   ]
  },
  {
   "cell_type": "code",
   "execution_count": 61,
   "id": "f70a6813",
   "metadata": {},
   "outputs": [
    {
     "name": "stdout",
     "output_type": "stream",
     "text": [
      "The fraction of sad tweets is:  0.2\n"
     ]
    }
   ],
   "source": [
    "print ('The fraction of sad tweets is: ', sad_fraction )"
   ]
  },
  {
   "cell_type": "code",
   "execution_count": 62,
   "id": "3b2777f3",
   "metadata": {},
   "outputs": [],
   "source": [
    "sentiment_score = happy_fraction - sad_fraction"
   ]
  },
  {
   "cell_type": "code",
   "execution_count": 63,
   "id": "c0cfff90",
   "metadata": {},
   "outputs": [
    {
     "name": "stdout",
     "output_type": "stream",
     "text": [
      "The sentiment score for the given tweets is 0.39999999999999997\n"
     ]
    }
   ],
   "source": [
    "print(\"The sentiment score for the given tweets is\", sentiment_score)"
   ]
  },
  {
   "cell_type": "code",
   "execution_count": 64,
   "id": "6b100c53",
   "metadata": {},
   "outputs": [
    {
     "name": "stdout",
     "output_type": "stream",
     "text": [
      "The overall sentiment is happy\n"
     ]
    }
   ],
   "source": [
    "if sentiment_score > 0:\n",
    "    print(\"The overall sentiment is happy\")\n",
    "else:\n",
    "    print(\"The overall sentiment is sad\")"
   ]
  },
  {
   "cell_type": "code",
   "execution_count": 65,
   "id": "20bec8d8",
   "metadata": {},
   "outputs": [
    {
     "data": {
      "text/plain": [
       "2"
      ]
     },
     "execution_count": 65,
     "metadata": {},
     "output_type": "execute_result"
    }
   ],
   "source": [
    "\n",
    "number_of_neutral_tweets = 0\n",
    "\n",
    "\n",
    "number_of_neutral_tweets = number_of_tweets - (number_of_sad_tweets + number_of_happy_tweets)\n",
    "number_of_neutral_tweets"
   ]
  },
  {
   "cell_type": "code",
   "execution_count": 66,
   "id": "0e5eeaa4",
   "metadata": {},
   "outputs": [],
   "source": [
    "neutral_fraction = number_of_neutral_tweets / number_of_tweets"
   ]
  },
  {
   "cell_type": "code",
   "execution_count": 67,
   "id": "df48c19c",
   "metadata": {},
   "outputs": [
    {
     "name": "stdout",
     "output_type": "stream",
     "text": [
      "The fraction of neutral tweets is 0.2\n"
     ]
    }
   ],
   "source": [
    "print('The fraction of neutral tweets is', neutral_fraction)"
   ]
  }
 ],
 "metadata": {
  "kernelspec": {
   "display_name": "Python 3 (ipykernel)",
   "language": "python",
   "name": "python3"
  },
  "language_info": {
   "codemirror_mode": {
    "name": "ipython",
    "version": 3
   },
   "file_extension": ".py",
   "mimetype": "text/x-python",
   "name": "python",
   "nbconvert_exporter": "python",
   "pygments_lexer": "ipython3",
   "version": "3.11.5"
  }
 },
 "nbformat": 4,
 "nbformat_minor": 5
}
